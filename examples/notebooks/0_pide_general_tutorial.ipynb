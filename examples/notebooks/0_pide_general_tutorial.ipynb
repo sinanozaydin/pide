{
 "cells": [
  {
   "cell_type": "markdown",
   "metadata": {},
   "source": [
    "![Example Image](../vox_logo.png)\n",
    "## <span style=\"color:green\"> Notebook - Starting with pide </span>\n",
    "<span style=\"color:purple\">Sinan Ozaydin, School of Geosciences, The University of Sydney, NSW 2006, Australia <br/> </span>\n",
    "<span style=\"color:purple\">sinan.ozaydin@protonmail.com</span>"
   ]
  },
  {
   "cell_type": "markdown",
   "metadata": {},
   "source": [
    "pide is a python3 library to calculate geophysical observables like electrical conductivity and seismic velocity for the given compositional and thermodynamic environment. To derive this information it uses library of experimental models on electrical conductivity and thermoelastic constants. pide is constituted by three main classes:\n",
    "\n",
    "<span style=\"color:red;\">-pide:</span> This is the class where calculations related to electrical conductivity and seismic velocities are performed. pide object is central to the library and all material and model classes utilizes pide object to calculate electrical conductivities and seismic velocities. \n",
    "\n",
    "<span style=\"color:red;\">-material:</span> A material holder class where the user can define a compositional environment and choices relevant to how the geophysical observables are going to be calculated. This can be done in the pide class by directly setting these parameters on a pide class, however, material class should create a tidy and interoperable environment for more complex calculations that can be streamlined through other processes.\n",
    "\n",
    "<span style=\"color:red;\">-model:</span> The model class represents a collection of materials that are geospatially indexed and thermodynamically defined. The users can create model objects from informations derived from thermomechanical numerical (like underworld or aspect outputs), or geological models.\n",
    "\n",
    "**Other tools included in the toolkit of pide are:**\n",
    "\n",
    "<span style=\"color:green;\">-geodyn:</span> A collection of scripts and methods to deal with input/output/processing of thermomechanical models.\n",
    "\n",
    "<span style=\"color:green;\">-gravity and mag:</span> A collection of methods to calculate gravity and magnetic anomalies from given 3D environment set by a model object.\n",
    "\n",
    "<span style=\"color:green;\">-mt:</span> A collection of tools to convert the outputs of pide into MT input scripts for forward and inverse modelling of these synthetic models. The codes currently implemented are ModEM and MARE2DEM.\n",
    "\n",
    "<span style=\"color:green;\">-rheology:</span> A collection of methods to perform rheological calculations from the outputs of pide (e.g., mantle viscosity from MT driven water contents).\n",
    "\n",
    "<span style=\"color:green;\">-inversion:</span> A collection of methods to invert for compositional parameterisations used in pide (e.g., mineral/melt contents, interconnectivity of phases, water contents) from real data."
   ]
  },
  {
   "cell_type": "markdown",
   "metadata": {
    "vscode": {
     "languageId": "plaintext"
    }
   },
   "source": [
    "To understand the functions used in pide, one can utilise the following workflow:"
   ]
  },
  {
   "cell_type": "code",
   "execution_count": 1,
   "metadata": {
    "scrolled": true,
    "vscode": {
     "languageId": "plaintext"
    }
   },
   "outputs": [
    {
     "name": "stdout",
     "output_type": "stream",
     "text": [
      "- calculate_arrhenian_single\n",
      "- calculate_bulk_mantle_water_solubility\n",
      "- calculate_conductivity\n",
      "- calculate_density_fluid\n",
      "- calculate_density_solid\n",
      "- calculate_fluids_conductivity\n",
      "- calculate_melt_conductivity\n",
      "- calculate_mineral_conductivity\n",
      "- calculate_mineral_water_solubility\n",
      "- calculate_o2_fugacity\n",
      "- calculate_rock_conductivity\n",
      "- calculate_seismic_velocities\n",
      "- calculate_transition_zone_water_solubility\n",
      "- calculate_water_fugacity\n",
      "- get_method_manual\n",
      "- get_mineral_index\n",
      "- get_rock_index\n",
      "- list_available_minerals\n",
      "- list_available_rocks\n",
      "- list_fluid_econd_models\n",
      "- list_mantle_water_partitions_melt\n",
      "- list_mantle_water_partitions_solid\n",
      "- list_mantle_water_solubilities\n",
      "- list_melt_econd_models\n",
      "- list_methods\n",
      "- list_mineral_econd_models\n",
      "- list_phs_melt_fluid_mix_methods\n",
      "- list_phs_mix_methods\n",
      "- list_rock_econd_models\n",
      "- list_transition_zone_water_partitions_solid\n",
      "- mantle_water_distribute\n",
      "- reset\n",
      "- revalue_arrays\n",
      "- set_alopx\n",
      "- set_bulk_water\n",
      "- set_composition_solid_mineral\n",
      "- set_composition_solid_rock\n",
      "- set_depth\n",
      "- set_fluid_properties\n",
      "- set_grain_boundary_H_Diffusion\n",
      "- set_grain_boundary_water_partitioning\n",
      "- set_grain_size\n",
      "- set_mantle_transition_zone_water_partitions\n",
      "- set_mantle_water_partitions\n",
      "- set_mantle_water_solubility\n",
      "- set_melt_composition\n",
      "- set_melt_fluid_conductivity_choice\n",
      "- set_melt_fluid_frac\n",
      "- set_melt_fluid_interconnectivity\n",
      "- set_melt_or_fluid_mode\n",
      "- set_melt_properties\n",
      "- set_melt_solubility\n",
      "- set_mineral_conductivity_choice\n",
      "- set_mineral_water\n",
      "- set_o2_buffer\n",
      "- set_param1_mineral\n",
      "- set_param1_rock\n",
      "- set_parameter\n",
      "- set_phase_interconnectivities\n",
      "- set_pressure\n",
      "- set_rock_conductivity_choice\n",
      "- set_rock_water\n",
      "- set_seismic_velocity_properties\n",
      "- set_solid_melt_fluid_mix_method\n",
      "- set_solid_phase_method\n",
      "- set_solid_phs_mix_method\n",
      "- set_temperature\n",
      "- set_watercalib\n",
      "- set_xfe_mineral\n",
      "- transition_zone_water_distribute\n",
      "- write_data\n"
     ]
    },
    {
     "name": "stderr",
     "output_type": "stream",
     "text": [
      "/home/sinan/.local/lib/python3.10/site-packages/matplotlib/projections/__init__.py:63: UserWarning: Unable to import Axes3D. This may be due to multiple versions of Matplotlib being installed (e.g. as a system package and as a pip package). As a result, the 3D projection is not available.\n",
      "  warnings.warn(\"Unable to import Axes3D. This may be due to multiple versions of \"\n"
     ]
    }
   ],
   "source": [
    "import pide\n",
    "\n",
    "#creating the pide object\n",
    "p_object = pide.pide()\n",
    "\n",
    "#Now, we can list all the methods used in pide class by:\n",
    "p_object.list_methods()\n",
    "\n"
   ]
  },
  {
   "cell_type": "code",
   "execution_count": 2,
   "metadata": {},
   "outputs": [
    {
     "name": "stdout",
     "output_type": "stream",
     "text": [
      "\u001b[91mThe Manual for the \u001b[93mcalculate_mineral_conductivity:\u001b[0m\n",
      "\n",
      "\t\tCalculate mineral conductivity based on the current environment setup.\n",
      "\t\n",
      "\t\tParameters\n",
      "\t\t----------\n",
      "\t\tmin_idx : int or str, optional\n",
      "\t\t\tName or index of the mineral to calculate conductivity for.\n",
      "\t\t\tDefault is None (calculate for all or current setting).\n",
      "\t\tmethod : str, optional\n",
      "\t\t\tCalculation method to use. Options are:\n",
      "\t\t\t- 'array': calculate conductivity for the entire array (default).\n",
      "\t\t\t- 'index': calculate conductivity at a specific index.\n",
      "\t\tsol_idx : int, optional\n",
      "\t\t\tIndex parameter to be used if method is 'index'.\n",
      "\t\t\tShould be passed as a keyword argument in `**kwargs`.\n",
      "\t\n",
      "\t\tReturns\n",
      "\t\t-------\n",
      "\t\tfloat or ndarray\n",
      "\t\t\tConductivity value(s) in Siemens per meter (S/m).\n",
      "\t\n",
      "\t\tExamples\n",
      "\t\t--------\n",
      "\t\tCalculate conductivity for olivine mineral:\n",
      "\t\n",
      "\t\t> calculate_mineral_conductivity(min_idx='ol')\n"
     ]
    }
   ],
   "source": [
    "#In order to get manual of a certain method one can do:\n",
    "p_object.get_method_manual('calculate_mineral_conductivity')"
   ]
  },
  {
   "cell_type": "markdown",
   "metadata": {},
   "source": [
    "A lot of environment variables to set in pide can be access through the **list methods**. An example can be:"
   ]
  },
  {
   "cell_type": "code",
   "execution_count": 3,
   "metadata": {},
   "outputs": [
    {
     "name": "stdout",
     "output_type": "stream",
     "text": [
      "\u001b[91mElectrical conductivity models for the given mineral: ol\u001b[0m\n",
      "0.   Dai2014_DryandWetOlivine_fo2  -----  polaron+proton\n",
      "1.   Dai2020_WetOlivine_200ppmTi_fo2  -----  polaron+proton\n",
      "2.   Dai2020_WetOlivine_683ppmTi_fo2  -----  polaron+proton\n",
      "3.   Fei2020_WetOlivineIonic_Isotropic  -----  ionicWet\n",
      "4.   Gardes2014_DryandWetOlivine  -----  ionic+polaron+proton\n",
      "5.   Jones2012_WetOlivine  -----  proton\n",
      "6.   Liu2021_DryOlivine_NNOBuffer  -----  polaron\n",
      "7.   Poe2010_DryandWetOlivine  -----  polaron+proton\n",
      "8.   Wang2006_DryandWetOlivine  -----  polaron+proton\n",
      "9.   Yoshino2009_DryandWetOlivine  -----  ionic+polaron+proton\n",
      "10.   Constable2006_dryOlivine_fo2  -----  polaron\n",
      "11.   Dai2014_DryOlivine_xFe  -----  polaron\n",
      "12.   Fullea2011_DryOlivine_xFe  -----  polaron\n",
      "13.   Pommier2018_ShearedDryOlivine  -----  polaron\n",
      "14.   Xu1998_DryOlivine  -----  polaron\n",
      "15.   Yoshino2012_DryOlivine_xFe  -----  polaron\n",
      "16.   Novella2017_HDiffusion  -----  protondiffusion\n",
      "17.   Sun2019_HDiffusion  -----  protondiffusion\n",
      "18.   DuFrane2012_HDiffusion  -----  protondiffusion\n",
      "19.   Kohlstedt1998_HDiffusion  -----  protondiffusion\n",
      "20.   Demouchy2006_HDiffusion  -----  protondiffusion\n"
     ]
    },
    {
     "data": {
      "text/plain": [
       "['Dai2014_DryandWetOlivine_fo2',\n",
       " 'Dai2020_WetOlivine_200ppmTi_fo2',\n",
       " 'Dai2020_WetOlivine_683ppmTi_fo2',\n",
       " 'Fei2020_WetOlivineIonic_Isotropic',\n",
       " 'Gardes2014_DryandWetOlivine',\n",
       " 'Jones2012_WetOlivine',\n",
       " 'Liu2021_DryOlivine_NNOBuffer',\n",
       " 'Poe2010_DryandWetOlivine',\n",
       " 'Wang2006_DryandWetOlivine',\n",
       " 'Yoshino2009_DryandWetOlivine',\n",
       " 'Constable2006_dryOlivine_fo2',\n",
       " 'Dai2014_DryOlivine_xFe',\n",
       " 'Fullea2011_DryOlivine_xFe',\n",
       " 'Pommier2018_ShearedDryOlivine',\n",
       " 'Xu1998_DryOlivine',\n",
       " 'Yoshino2012_DryOlivine_xFe',\n",
       " 'Novella2017_HDiffusion',\n",
       " 'Sun2019_HDiffusion',\n",
       " 'DuFrane2012_HDiffusion',\n",
       " 'Kohlstedt1998_HDiffusion',\n",
       " 'Demouchy2006_HDiffusion']"
      ]
     },
     "execution_count": 3,
     "metadata": {},
     "output_type": "execute_result"
    }
   ],
   "source": [
    "#To list all available electrical electrical conductivity models and get their indexes.\n",
    "p_object.list_mineral_econd_models('ol')"
   ]
  },
  {
   "cell_type": "markdown",
   "metadata": {},
   "source": [
    "Then we can use this information to set our olivine conduction model as Gardes2014_DryandWetOlivine:"
   ]
  },
  {
   "cell_type": "code",
   "execution_count": 4,
   "metadata": {},
   "outputs": [],
   "source": [
    "p_object.set_mineral_conductivity_choice(ol = 4)"
   ]
  },
  {
   "cell_type": "markdown",
   "metadata": {},
   "source": [
    "The pide object can be reset to default values can be done as follows:"
   ]
  },
  {
   "cell_type": "code",
   "execution_count": 5,
   "metadata": {},
   "outputs": [],
   "source": [
    "p_object.reset()"
   ]
  }
 ],
 "metadata": {
  "kernelspec": {
   "display_name": "Python 3 (ipykernel)",
   "language": "python",
   "name": "python3"
  },
  "language_info": {
   "codemirror_mode": {
    "name": "ipython",
    "version": 3
   },
   "file_extension": ".py",
   "mimetype": "text/x-python",
   "name": "python",
   "nbconvert_exporter": "python",
   "pygments_lexer": "ipython3",
   "version": "3.10.12"
  }
 },
 "nbformat": 4,
 "nbformat_minor": 4
}
