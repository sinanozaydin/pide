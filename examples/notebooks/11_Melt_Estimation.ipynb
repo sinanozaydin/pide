{
 "cells": [
  {
   "cell_type": "markdown",
   "id": "d5d72bc0-3ffb-4f30-b586-705a2c71631c",
   "metadata": {},
   "source": [
    "## <span style=\"color:green\"> Notebook - Melt Estimation</span>\n",
    "<span style=\"color:purple\">Sinan Ozaydin, School of Geosciences, The University of Sydney, NSW 2006, Australia <br/> </span>\n",
    "<span style=\"color:purple\">sinan.ozaydin@protonmail.com | sinan.ozaydin@sydney.edu.au </span>"
   ]
  },
  {
   "cell_type": "markdown",
   "id": "79f22aa4-9a48-4457-be3c-9efb9cf6ab47",
   "metadata": {},
   "source": [
    "In this notebook, we will use experimental electrical conductivity measurements."
   ]
  },
  {
   "cell_type": "code",
   "execution_count": 1,
   "id": "a1661044-2f43-4316-8734-68f79e8f5bd9",
   "metadata": {
    "scrolled": true
   },
   "outputs": [
    {
     "name": "stderr",
     "output_type": "stream",
     "text": [
      "/home/sinan/.local/lib/python3.10/site-packages/matplotlib/projections/__init__.py:63: UserWarning: Unable to import Axes3D. This may be due to multiple versions of Matplotlib being installed (e.g. as a system package and as a pip package). As a result, the 3D projection is not available.\n",
      "  warnings.warn(\"Unable to import Axes3D. This may be due to multiple versions of \"\n"
     ]
    }
   ],
   "source": [
    "#Importing the neccesarry python libraries.\n",
    "import os\n",
    "import pide\n",
    "from pide.inversion import conductivity_solver_single_param, conductivity_metropolis_hastings_two_param\n",
    "import numpy as np\n",
    "import matplotlib.pyplot as plt"
   ]
  },
  {
   "cell_type": "markdown",
   "id": "0c2b7018",
   "metadata": {},
   "source": [
    "The estimation of melt content from the given electrical conductivity can be solved with pide for a single parameter. The relationships in melt estimation. Let's first define the environment for the conductivity."
   ]
  },
  {
   "cell_type": "code",
   "execution_count": 4,
   "id": "d7c35b30",
   "metadata": {},
   "outputs": [
    {
     "name": "stdout",
     "output_type": "stream",
     "text": [
      "Melt Fraction Estimate: 0.2625\n"
     ]
    }
   ],
   "source": [
    "#creating a pide object\n",
    "p_obj = pide.pide()\n",
    "\n",
    "#setting up and environment at 1300 K and 3 GPa \n",
    "temperature = np.array([1500])\n",
    "pressure = np.array([3.0])\n",
    "\n",
    "p_obj.set_temperature(temperature)\n",
    "p_obj.set_pressure(pressure)\n",
    "\n",
    "#setting up a simple lherzolite composition\n",
    "p_obj.set_composition_solid_mineral(ol = 0.6,opx = 0.3, cpx = 0.05, garnet = 0.05)\n",
    "#setting the mineral conductivity choices\n",
    "p_obj.set_mineral_conductivity_choice(ol = 4, opx = 0, garnet = 0, cpx = 6)\n",
    "p_obj.set_solid_phs_mix_method(1) #HS lower bound\n",
    "\n",
    "#Setting up Sifre2014 as the conductivity choice\n",
    "p_obj.set_melt_fluid_conductivity_choice(melt = 0)\n",
    "\n",
    "#Setting up melt CO2\n",
    "p_obj.set_melt_properties(co2 = 100)\n",
    "\n",
    "#Setting up bulk water.\n",
    "#Try to avoid setting up melt_h2o from set_melt properties, because this will not distribute water among minerals.\n",
    "p_obj.set_bulk_water(300)\n",
    "p_obj.mantle_water_distribute()\n",
    "\n",
    "#Setting up the melt-solid mixture relationship to Tubes model\n",
    "p_obj.set_solid_melt_fluid_mix_method(1)\n",
    "\n",
    "#Setting up the conductivity value to estimate melt for\n",
    "cond_external = [1e-1] #or 10 ohm m\n",
    "\n",
    "#Now setting up the conductivity_solver_single_param\n",
    "#we are using the parameter melt_fluid_mass_frac to estimate instead volumetric parameter melt_frac.\n",
    "#This allows us to calculate the thermal expansion and water partitioning among melt and solid minerla mixture\n",
    "#with more accuracy.\n",
    "melt_fraction_estimate, residual_list = conductivity_solver_single_param(object = p_obj, cond_list = cond_external,\n",
    "param_name = 'melt_fluid_mass_frac', upper_limit_list = np.ones(len(temperature)), lower_limit_list= np.zeros(len(temperature)),\n",
    "search_start = 0.01, acceptence_threshold = 0.5, num_cpu = 1)\n",
    "\n",
    "print(f'Melt Fraction Estimate: {melt_fraction_estimate[0]}')"
   ]
  },
  {
   "cell_type": "markdown",
   "id": "b6b0064f",
   "metadata": {},
   "source": [
    "Melt fraction can be estimated for the given composition of the environment with a *conductivity_solver_single_param* function. Many of the "
   ]
  },
  {
   "cell_type": "code",
   "execution_count": null,
   "id": "2d170dd3",
   "metadata": {},
   "outputs": [],
   "source": []
  }
 ],
 "metadata": {
  "kernelspec": {
   "display_name": "Python 3 (ipykernel)",
   "language": "python",
   "name": "python3"
  },
  "language_info": {
   "codemirror_mode": {
    "name": "ipython",
    "version": 3
   },
   "file_extension": ".py",
   "mimetype": "text/x-python",
   "name": "python",
   "nbconvert_exporter": "python",
   "pygments_lexer": "ipython3",
   "version": "3.10.12"
  }
 },
 "nbformat": 4,
 "nbformat_minor": 5
}
