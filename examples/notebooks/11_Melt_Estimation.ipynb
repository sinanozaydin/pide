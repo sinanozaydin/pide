{
 "cells": [
  {
   "cell_type": "markdown",
   "id": "d5d72bc0-3ffb-4f30-b586-705a2c71631c",
   "metadata": {},
   "source": [
    "## <span style=\"color:green\"> Notebook - Melt Estimation - Simple Line Search and MCMC</span>\n",
    "<span style=\"color:purple\">Sinan Ozaydin, School of Geosciences, The University of Sydney, NSW 2006, Australia <br/> </span>\n",
    "<span style=\"color:purple\">sinan.ozaydin@protonmail.com | sinan.ozaydin@sydney.edu.au </span>"
   ]
  },
  {
   "cell_type": "markdown",
   "id": "79f22aa4-9a48-4457-be3c-9efb9cf6ab47",
   "metadata": {},
   "source": [
    "# Constraining Melt Fraction and Water Content in Magmatic Systems: From Single-Parameter Line Search to Joint MT-Seismic MCMC Inversion\n",
    "\n",
    "This notebook presents a systematic approach to estimating melt fraction and water content in magmatic systems using magnetotelluric (MT) and seismic observations. We progressively increase the complexity of our inversion approach, starting from simple single-parameter deterministic inversions to joint probabilistic inversions that incorporate multiple geophysical datasets. This methodology demonstrates how incorporating additional constraints and uncertainty quantification can significantly improve our understanding of subsurface magmatic conditions.\n",
    "\n",
    "Accurate estimation of melt fraction and volatile content in magmatic systems is crucial for understanding volcanic processes, assessing eruption potential, and interpreting geophysical anomalies. Magnetotelluric (MT) methods are particularly sensitive to the presence of partial melt due to the high electrical conductivity of silicate melts compared to solid rock. However, the interpretation of MT data is non-unique, as electrical conductivity depends on multiple factors including temperature, melt fraction, melt composition, and water content.\n",
    "\n",
    "This notebook demonstrates a progressive approach to addressing these challenges through four complementary analyses of increasing sophistication.\n",
    "\n",
    "## Methodology Overview\n",
    "\n",
    "### Analysis Progression\n",
    "\n",
    "We present four analyses that build upon each other:\n",
    "\n",
    "1. **Single-Parameter Deterministic Inversion (Fixed Water Content)**\n",
    "   - Algorithm: Line-search optimization using `conductivity_solver_single_param`\n",
    "   - Input: MT conductivity anomaly, assumed bulk water content, solid rock composition, phase mixing models\n",
    "       electrical conductivity models for minerals and melt, water partitioning coefficients.\n",
    "   - Output: Point estimate of melt fraction\n",
    "   - Purpose: Establish baseline melt fraction estimate under simplified assumptions\n",
    "\n",
    "2. **Single-Parameter Sensitivity Analysis (Variable Water Content)**\n",
    "   - Algorithm: Line-search optimization using `conductivity_solver_single_param`\n",
    "   - Input: MT conductivity anomaly, range of bulk water contents, solid rock composition, phase mixing models\n",
    "       electrical conductivity models for minerals and melt, water partitioning coefficients.\n",
    "   - Output: Melt fraction as a function of water content\n",
    "   - Purpose: Quantify sensitivity of melt fraction estimates to water content assumptions\n",
    "\n",
    "3. **Two-Parameter Probabilistic Inversion (MT-only)**\n",
    "   - Algorithm: Markov Chain Monte Carlo (MCMC) using `metropolis_hastings_two_param`\n",
    "   - Input: MT conductivity anomaly with uncertainties, solid rock composition, phase mixing models\n",
    "       electrical conductivity models for minerals and melt, water partitioning coefficients.\n",
    "   - Output: Joint posterior distribution of melt fraction and water content\n",
    "   - Purpose: Quantify parameter uncertainties and trade-offs using Bayesian inference\n",
    "\n",
    "4. **Joint MT-Seismic Probabilistic Inversion**\n",
    "   - Algorithm: Modified MCMC incorporating seismic constraints using `metropolis_hastings_two_param`\n",
    "   - Input: MT conductivity anomaly + P-wave and S-wave velocities with uncertainties, solid rock composition, phase mixing models, electrical conductivity models for minerals and melt, water partitioning coefficients.\n",
    "   - Output: Better-constrained joint posterior distribution\n",
    "   - Purpose: Demonstrate value of multi-physics joint inversion for reducing parameter uncertainties\n",
    "\n",
    "\n",
    "\n",
    "Let's begin with the simplest case: estimating melt fraction for a fixed water content using a line-search algorithm."
   ]
  },
  {
   "cell_type": "code",
   "execution_count": 1,
   "id": "a1661044-2f43-4316-8734-68f79e8f5bd9",
   "metadata": {
    "scrolled": true
   },
   "outputs": [
    {
     "name": "stdout",
     "output_type": "stream",
     "text": [
      "Warning: No module named 'autograd'. For full functionality of BurnMan, please install autograd.\n",
      "Warning: No module named 'autograd'. For full functionality of BurnMan, please install autograd.\n"
     ]
    },
    {
     "name": "stderr",
     "output_type": "stream",
     "text": [
      "/home/sinan/.local/lib/python3.10/site-packages/matplotlib/projections/__init__.py:63: UserWarning: Unable to import Axes3D. This may be due to multiple versions of Matplotlib being installed (e.g. as a system package and as a pip package). As a result, the 3D projection is not available.\n",
      "  warnings.warn(\"Unable to import Axes3D. This may be due to multiple versions of \"\n"
     ]
    }
   ],
   "source": [
    "#Importing the neccesarry python libraries.\n",
    "import os\n",
    "import pide\n",
    "from pide.inversion import conductivity_solver_single_param, metropolis_hastings_two_param\n",
    "from pide.imaging.plot_distribution import plot_posterior_distribution_two_params, plot_posterior_distribution_heatmap_two_params\n",
    "import numpy as np\n",
    "import matplotlib.pyplot as plt"
   ]
  },
  {
   "cell_type": "markdown",
   "id": "b95b293b",
   "metadata": {},
   "source": [
    "**We can first check all the available melt conductivity models. For this practice, we will use Sifre2014_Wet_Carbonated measurements.***"
   ]
  },
  {
   "cell_type": "code",
   "execution_count": 2,
   "id": "4e1c845f",
   "metadata": {
    "scrolled": true
   },
   "outputs": [
    {
     "name": "stdout",
     "output_type": "stream",
     "text": [
      "\u001b[91mConductivity models for melts:\u001b[0m\n",
      "0.   Sifre2014_Wet_Carbonated\n",
      "1.   Pommier2011_SIGMELTS_WetSilicate_Melt\n",
      "2.   Ni2011_WetBasalt\n",
      "3.   Scarlato2004_DryBasalt_H1604\n",
      "4.   TyburczyWaff1983_DryTholeiite\n",
      "5.   TyburczyWaff1983_DryAndesite\n",
      "6.   Guo2017_WetAndesite\n",
      "7.   Laumonier2017_WetAndesite\n",
      "8.   Laumonier2015_WetDacite\n",
      "9.   Gaillard2004_WetRhyolite\n",
      "10.   Guo2016_WetRhyolite\n",
      "11.   Chen2018_WetGranite\n",
      "12.   Guo2018_WetGranite\n",
      "13.   Poe2008_Phonotephrite_Average\n",
      "14.   Poe2012_WetPanteleriteGlass\n",
      "                 \n",
      "                 \n"
     ]
    }
   ],
   "source": [
    "p_obj = pide.pide()\n",
    "melt_econd = p_obj.list_melt_econd_models()\n",
    "\n"
   ]
  },
  {
   "cell_type": "markdown",
   "id": "072dbb34",
   "metadata": {},
   "source": [
    "# 1. Single-Parameter Deterministic Inversion (Fixed Water Content)\n",
    "Melt fraction can be estimated for a given composition using the `conductivity_solver_single_param` function.  \n",
    "Let's calculate the melt fraction corresponding to an electrical conductivity of **$10\\ \\Omega\\cdot m$** (or **$0.1\\ S/m$**) using the following parameters:\n",
    "\n",
    "1. **Temperature and Pressure:**  \n",
    "   - `1500 K` and `3 GPa`\n",
    "\n",
    "2. **Solid matrix composition:**  \n",
    "   - **Olivine (ol):** `0.6`  \n",
    "   - **Orthopyroxene (opx):** `0.3`  \n",
    "   - **Clinopyroxene (cpx):** `0.05`  \n",
    "   - **Garnet:** `0.05`\n",
    "\n",
    "3. **Solid minerals mixing method:**  \n",
    "   - Hashin–Shtrikman Lower Bound\n",
    "\n",
    "4. **Melt conductivity model:**  \n",
    "   - Hydrous and carbonated melt model from **Sifre et al. (2014)**\n",
    "\n",
    "5. **Melt CO₂ content:**  \n",
    "   - `100 ppm` of **CO₂**\n",
    "\n",
    "6. **Bulk water content:**  \n",
    "   - `300 ppm` of **$OH^{-1}$**\n",
    "\n",
    "7. **Melt/solid phase mixing model:**  \n",
    "   - **Tubes model**\n",
    "   \n",
    "The `conductivity_solver_single_param` function estimates the fitting parameter using a simple **line-search algorithm**.  \n",
    "In this example, we employ the following parameters:\n",
    "\n",
    "1. **Parameter name (`param_name`):**  \n",
    "   - Set to **`melt_fluid_mass_frac`**, which is the parameter to be estimated.\n",
    "\n",
    "2. **Search bounds (`upper_limit_list` and `lower_limit_list`):**  \n",
    "   - Define the upper and lower limits of the search space for the parameter.\n",
    "\n",
    "3. **Initial step size (`search_start`):**  \n",
    "   - Specifies the initial step size used in the line-search process.\n",
    "\n",
    "4. **Acceptance threshold (`acceptance_threshold`):**  \n",
    "   - Sets the acceptable error margin. If the total misfit is below this percentage of the input conductivity value, the solution is accepted and the line-search algorithm stops.\n",
    "\n",
    "5. **Number of CPUs (`num_cpu`):**  \n",
    "   - Indicates how many CPU cores will be used to parallelize the computation.\n",
    "\n"
   ]
  },
  {
   "cell_type": "code",
   "execution_count": 3,
   "id": "f696ffe0",
   "metadata": {
    "scrolled": true
   },
   "outputs": [
    {
     "name": "stdout",
     "output_type": "stream",
     "text": [
      "\u001b[92mInversion process has started..\u001b[0m\n",
      "Melt mass fraction solution: 0.24500000000000002%\n"
     ]
    }
   ],
   "source": [
    "#setting up and environment at 1300 K and 3 GPa\n",
    "temperature = np.array([1500])\n",
    "pressure = np.array([3.0])\n",
    "\n",
    "p_obj.set_temperature(temperature)\n",
    "p_obj.set_pressure(pressure)\n",
    "\n",
    "#setting up a simple lherzolite composition\n",
    "p_obj.set_composition_solid_mineral(ol = 0.6,opx = 0.3, cpx = 0.05, garnet = 0.05)\n",
    "\n",
    "#setting the mineral conductivity choices\n",
    "#Ol - Gardes2014, Opx - Dai2009, Garnet: Dai2009, Cpx: Liu2019\n",
    "p_obj.set_mineral_conductivity_choice(ol = 4, opx = 0, garnet = 0, cpx = 6)\n",
    "\n",
    "#Setting up solid mineral mixing properties\n",
    "p_obj.set_solid_phs_mix_method(1) #HS lower bound\n",
    "\n",
    "#Setting up Sifre2014 as the conductivity choice\n",
    "p_obj.set_melt_fluid_conductivity_choice(melt = 0)\n",
    "\n",
    "#Setting up melt CO2\n",
    "p_obj.set_melt_properties(co2 = 100)\n",
    "\n",
    "p_obj.set_mantle_water_partitions(opx_melt = 1,cpx_melt = 1)\n",
    "\n",
    "#Setting up bulk water.\n",
    "#Try to avoid setting up melt_h2o from set_melt properties, because this will not distribute water among minerals.\n",
    "#Instead use mantle_water_distribute function after setting up the bulk water.\n",
    "p_obj.set_bulk_water(300)\n",
    "p_obj.mantle_water_distribute()\n",
    "\n",
    "#Setting up the melt-solid mixture relationship to Tubes model\n",
    "p_obj.set_solid_melt_fluid_mix_method(1)\n",
    "\n",
    "#Setting up the conductivity value to estimate melt for\n",
    "res_external = 10\n",
    "cond_external = [1.0/res_external] #or 10 ohm m\n",
    "\n",
    "#Now setting up the conductivity_solver_single_param\n",
    "melt_frac_solution, residual_list = conductivity_solver_single_param(object = p_obj, cond_list = cond_external,\n",
    "param_name = 'melt_fluid_mass_frac', upper_limit_list = np.ones(len(temperature)), lower_limit_list= np.zeros(len(temperature)),\n",
    "search_start = 0.01, acceptence_threshold = 0.5, num_cpu = 1)\n",
    "    \n",
    "print(f'Melt mass fraction solution: {melt_frac_solution[0]}%')"
   ]
  },
  {
   "cell_type": "markdown",
   "id": "1ec20e39",
   "metadata": {},
   "source": [
    "# 2. Single-Parameter Sensitivity Analysis (Variable Water Content)\n",
    "\n",
    "Now, let's solve for **melt fractions as a function of changing bulk water content**.  \n",
    "We will set up the same environmental conditions as before: **1500 K** and **3 GPa**, and compute a series of solutions over a range of `bulk_water` values.\n",
    "\n",
    "Since estimating melt fractions requires calculating **fluid density** at high pressure and temperature, **pide** uses the **Burnman** library to solve the melt composition equation of state (EOS) at each iteration."
   ]
  },
  {
   "cell_type": "code",
   "execution_count": 13,
   "id": "f19b4e0d",
   "metadata": {
    "scrolled": true
   },
   "outputs": [
    {
     "name": "stdout",
     "output_type": "stream",
     "text": [
      "\u001b[92mInversion process has started..\u001b[0m\n"
     ]
    }
   ],
   "source": [
    "p_obj = pide.pide()\n",
    "\n",
    "#creating the temperature and pressure arrays\n",
    "temperature = np.ones(100) * 1500\n",
    "pressure = np.ones(100) * 3\n",
    "\n",
    "#setting up bulk water arrays to be varied between 100 and 3000 ppm.\n",
    "bulk_water_array = np.linspace(100,3000,100)\n",
    "\n",
    "p_obj.set_temperature(temperature)\n",
    "p_obj.set_pressure(pressure)\n",
    "\n",
    "#setting up a simple lherzolite composition\n",
    "p_obj.set_composition_solid_mineral(ol = 0.6,opx = 0.3, cpx = 0.05, garnet = 0.05)\n",
    "#setting the mineral conductivity choices\n",
    "p_obj.set_mineral_conductivity_choice(ol = 4, opx = 0, garnet = 0, cpx = 6)\n",
    "p_obj.set_solid_phs_mix_method(1) #HS lower bound\n",
    "\n",
    "#Setting up Sifre2014 as the conductivity choice\n",
    "p_obj.set_melt_fluid_conductivity_choice(melt = 0)\n",
    "\n",
    "#Setting up melt CO2\n",
    "p_obj.set_melt_properties(co2 = 100)\n",
    "\n",
    "#Setting up bulk water.\n",
    "#Try to avoid setting up melt_h2o from set_melt properties, because this will not distribute water among minerals.\n",
    "p_obj.set_bulk_water(bulk_water_array)\n",
    "p_obj.mantle_water_distribute()\n",
    "\n",
    "#Setting up the melt-solid mixture relationship to Tubes model\n",
    "p_obj.set_solid_melt_fluid_mix_method(1)\n",
    "p_obj.set_mantle_water_partitions(opx_melt = 1,cpx_melt = 1)\n",
    "\n",
    "#converting resistivity to conductivity\n",
    "cond_external = np.ones(len(temperature)) * (1.0/10)\n",
    "\n",
    "#Now setting up the conductivity_solver_single_param\n",
    "melt_frac_solution, residual_list = conductivity_solver_single_param(object = p_obj, cond_list = cond_external,\n",
    "param_name = 'melt_fluid_mass_frac', upper_limit_list = np.ones(len(temperature)), lower_limit_list= np.zeros(len(temperature)),\n",
    "search_start = 0.01, acceptence_threshold = 0.05, num_cpu = 1,simplify_fluid_density = False)\n",
    "\n",
    "\n"
   ]
  },
  {
   "cell_type": "markdown",
   "id": "b95fd762",
   "metadata": {},
   "source": [
    "Now, we can plot the results with the following lines:"
   ]
  },
  {
   "cell_type": "code",
   "execution_count": 14,
   "id": "cef6560f",
   "metadata": {},
   "outputs": [
    {
     "data": {
      "image/png": "[encoded data removed]",
      "text/plain": [
       "<Figure size 1100x500 with 2 Axes>"
      ]
     },
     "metadata": {},
     "output_type": "display_data"
    }
   ],
   "source": [
    "fig = plt.figure(figsize = (11,5))\n",
    "ax = plt.subplot(121)\n",
    "ax.plot(np.array(melt_frac_solution) * 1e2, bulk_water_array,'o')\n",
    "ax.set_xlabel('Melt Fraction (%)')\n",
    "ax.set_ylabel('Bulk Water Content (ppm)')\n",
    "ax.grid(which = 'both')\n",
    "\n",
    "ax2 = plt.subplot(122)\n",
    "ax2.plot(np.array(melt_frac_solution) * 1e2, p_obj.h2o_melt *1e-4,'o')\n",
    "ax2.set_xlabel('Melt Fraction (%)')\n",
    "ax2.set_ylabel('Melt Water Content (%w.t.)')\n",
    "ax2.grid(which = 'both')\n",
    "plt.show()"
   ]
  },
  {
   "cell_type": "markdown",
   "id": "99370a2f",
   "metadata": {},
   "source": [
    "# 3. Two-Parameter Probabilistic Inversion (MT-only)\n",
    "\n",
    "Now, let's perform the same calculations using the **Markov Chain Monte Carlo (MCMC)** approach with the **Metropolis-Hastings** algorithm, implemented in the `metropolis_hastings_two_param` function. This method generates a large number of proposed models, accepting or rejecting them based on a defined set of criteria. Depending on our previous line-search results we can also reduce the search space to be in between 7 percent melt fraction to above since silicic melts could not have much more water than approximately 10 wt.%.\n",
    "\n",
    "The following parameters are used in this setup:\n",
    "\n",
    "1. **Maximum values:(`upper_limits`)**  \n",
    "   - **Water content** ($OH^{-1}$): limited to **3000 ppm**  \n",
    "   - **Melt mass fraction**: limited to **0.5**  \n",
    "   These limits are enforced during the algorithm to automatically reject any proposals that exceed them.\n",
    "\n",
    "2. **Initial guesses: (`initial_params`)**\n",
    "   - **Melt mass fraction**: `0.3`  \n",
    "   - **Water content**: `1000 ppm`  \n",
    "   These serve as the starting point for the algorithm. While they don't strongly influence the inversion results, they should still be within a reasonable range.\n",
    "\n",
    "3. **Proposal step sizes (`proposal_std`):**  \n",
    "   - **Melt mass fraction**: `0.25`  \n",
    "   - **Water content**: `300 ppm`  \n",
    "   These values control the magnitude of change in each proposed step. Larger step sizes allow broader exploration of the parameter space.\n",
    "\n",
    "4. **Adaptive step size (`adaptive_alg`):**  \n",
    "   - Set to **`True`**  \n",
    "   - The algorithm adjusts step sizes dynamically based on the acceptance rate, aiming for a target between **0.2 and 0.3**.  \n",
    "   - This range can be customized by the user by changing the parameter `ideal_acceptance_bounds`.\n",
    "   - The adaptive\n",
    "\n",
    "5. **Maximum step size limits:**  \n",
    "   - **Water content**: `25000 ppm`  \n",
    "   - **Melt fraction**: `0.5`  \n",
    "   These define the upper bounds for the adaptive step sizes.\n",
    "\n",
    "6. **Conductivity uncertainty (`sigma`):**  \n",
    "   - Represents the **standard deviation of electrical conductivity** in **log units**  \n",
    "   - Reflects the uncertainty in model estimation.\n",
    "\n",
    "7. **Number of iterations (`n_iter`):**  \n",
    "   - Total number of Monte Carlo iterations to be performed.\n",
    "\n",
    "8. **Burn-in period (`burning`):**  \n",
    "   - Number of initial iterations to discard.  \n",
    "   - These early samples are excluded from the final distribution.\n",
    "   \n",
    "#### Table 1: Parameter Bounds and Initial Values\n",
    "\n",
    "| Parameter Name | Variable | Value | Units | Description |\n",
    "|----------------|----------|-------|-------|-------------|\n",
    "| `upper_limits[0]` | Water content (OH⁻) | 3000 | ppm | Maximum hydroxyl concentration |\n",
    "| `upper_limits[1]` | Melt mass fraction | 0.5 | - | Maximum melt fraction |\n",
    "| `initial_params[0]` | Melt mass fraction | 0.3 | - | Starting melt fraction |\n",
    "| `initial_params[1]` | Water content | 1000 | ppm | Starting water content |\n",
    "\n",
    "*Note: Proposals exceeding `upper_limits` are automatically rejected by the algorithm.*\n",
    "\n",
    "#### Table 2: MCMC Sampling Parameters\n",
    "\n",
    "| Parameter Name | Value | Description |\n",
    "|----------------|-------|-------------|\n",
    "| **Proposal Step Sizes** | | |\n",
    "| `proposal_std[0]` | 0.25 | Standard deviation for melt fraction proposals |\n",
    "| `proposal_std[1]` | 300 ppm | Standard deviation for water content proposals |\n",
    "| **Adaptive Algorithm Settings** | | |\n",
    "| `adaptive_alg` | True | Enable dynamic step size adjustment |\n",
    "| `ideal_acceptance_bounds` | [0.2, 0.3] | Target acceptance rate range |\n",
    "| `max_step_size[0]` | 0.5 | Maximum adaptive step size for melt fraction |\n",
    "| `max_step_size[1]` | 25000 ppm | Maximum adaptive step size for water content |\n",
    "| **Data and Sampling** | | |\n",
    "| `sigma_cond` | 0.025 | Conductivity uncertainty (log₁₀ S/m) |\n",
    "| `n_iter` | 50000| Total number of MCMC iterations |\n",
    "| `burning` | 2000 | Number of burn-in iterations to discard |"
   ]
  },
  {
   "cell_type": "code",
   "execution_count": 11,
   "id": "3fb754eb",
   "metadata": {},
   "outputs": [
    {
     "ename": "TypeError",
     "evalue": "list indices must be integers or slices, not tuple",
     "output_type": "error",
     "traceback": [
      "\u001b[0;31m---------------------------------------------------------------------------\u001b[0m",
      "\u001b[0;31mTypeError\u001b[0m                                 Traceback (most recent call last)",
      "Cell \u001b[0;32mIn[11], line 44\u001b[0m\n\u001b[1;32m     41\u001b[0m proposal_std \u001b[38;5;241m=\u001b[39m [\u001b[38;5;241m200\u001b[39m,\u001b[38;5;241m0.25\u001b[39m]\n\u001b[1;32m     42\u001b[0m burning \u001b[38;5;241m=\u001b[39m \u001b[38;5;241m2000\u001b[39m\n\u001b[0;32m---> 44\u001b[0m samples, acceptance_rates, misfits, samples_all, misfits_all \u001b[38;5;241m=\u001b[39m \u001b[43mmetropolis_hastings_two_param\u001b[49m\u001b[43m(\u001b[49m\u001b[38;5;28;43mobject\u001b[39;49m\u001b[43m \u001b[49m\u001b[38;5;241;43m=\u001b[39;49m\u001b[43m \u001b[49m\u001b[43mp_obj\u001b[49m\u001b[43m,\u001b[49m\u001b[43m \u001b[49m\u001b[43mcond_list\u001b[49m\u001b[43m \u001b[49m\u001b[38;5;241;43m=\u001b[39;49m\u001b[43m \u001b[49m\u001b[43mcond_external\u001b[49m\u001b[43m,\u001b[49m\n\u001b[1;32m     45\u001b[0m \u001b[43minitial_params\u001b[49m\u001b[43m \u001b[49m\u001b[38;5;241;43m=\u001b[39;49m\u001b[43m \u001b[49m\u001b[43minitial_params\u001b[49m\u001b[43m,\u001b[49m\u001b[43mparam_name_1\u001b[49m\u001b[43m \u001b[49m\u001b[38;5;241;43m=\u001b[39;49m\u001b[43m \u001b[49m\u001b[38;5;124;43m'\u001b[39;49m\u001b[38;5;124;43mbulk_water\u001b[39;49m\u001b[38;5;124;43m'\u001b[39;49m\u001b[43m,\u001b[49m\n\u001b[1;32m     46\u001b[0m \u001b[43mparam_name_2\u001b[49m\u001b[38;5;241;43m=\u001b[39;49m\u001b[43m \u001b[49m\u001b[38;5;124;43m\"\u001b[39;49m\u001b[38;5;124;43mmelt_fluid_mass_frac\u001b[39;49m\u001b[38;5;124;43m\"\u001b[39;49m\u001b[43m,\u001b[49m\u001b[43m \u001b[49m\u001b[43mupper_limits\u001b[49m\u001b[43m \u001b[49m\u001b[38;5;241;43m=\u001b[39;49m\u001b[43m \u001b[49m\u001b[43m(\u001b[49m\u001b[43mwater_max\u001b[49m\u001b[43m,\u001b[49m\u001b[43mmelt_max\u001b[49m\u001b[43m)\u001b[49m\u001b[43m,\u001b[49m\n\u001b[1;32m     47\u001b[0m \u001b[43m\t\u001b[49m\u001b[43mlower_limits\u001b[49m\u001b[43m \u001b[49m\u001b[38;5;241;43m=\u001b[39;49m\u001b[43m \u001b[49m\u001b[43m(\u001b[49m\u001b[43mwater_min\u001b[49m\u001b[43m,\u001b[49m\u001b[43mmelt_min\u001b[49m\u001b[43m)\u001b[49m\u001b[43m,\u001b[49m\u001b[43m \u001b[49m\u001b[43msigma_cond\u001b[49m\u001b[43m \u001b[49m\u001b[38;5;241;43m=\u001b[39;49m\u001b[43m \u001b[49m\u001b[43msigma\u001b[49m\u001b[43m,\u001b[49m\u001b[43mproposal_stds\u001b[49m\u001b[38;5;241;43m=\u001b[39;49m\u001b[43mproposal_std\u001b[49m\n\u001b[1;32m     48\u001b[0m \u001b[43m\t\u001b[49m\u001b[43m,\u001b[49m\u001b[43mn_iter\u001b[49m\u001b[43m \u001b[49m\u001b[38;5;241;43m=\u001b[39;49m\u001b[43m \u001b[49m\u001b[43mn_iterations\u001b[49m\u001b[43m,\u001b[49m\u001b[43m \u001b[49m\u001b[43mburning\u001b[49m\u001b[43m \u001b[49m\u001b[38;5;241;43m=\u001b[39;49m\u001b[43m \u001b[49m\u001b[43mburning\u001b[49m\u001b[43m,\u001b[49m\u001b[43m \u001b[49m\u001b[43mtransition_zone\u001b[49m\u001b[43m \u001b[49m\u001b[38;5;241;43m=\u001b[39;49m\u001b[43m \u001b[49m\u001b[38;5;28;43;01mFalse\u001b[39;49;00m\u001b[43m,\u001b[49m\u001b[43mnum_cpu\u001b[49m\u001b[43m \u001b[49m\u001b[38;5;241;43m=\u001b[39;49m\u001b[43m \u001b[49m\u001b[38;5;241;43m1\u001b[39;49m\u001b[43m,\u001b[49m\u001b[43madaptive_alg\u001b[49m\u001b[43m \u001b[49m\u001b[38;5;241;43m=\u001b[39;49m\u001b[43m \u001b[49m\u001b[38;5;28;43;01mTrue\u001b[39;49;00m\u001b[43m,\u001b[49m\n\u001b[1;32m     49\u001b[0m \u001b[43m\t\u001b[49m\u001b[43mstep_size_limits\u001b[49m\u001b[43m \u001b[49m\u001b[38;5;241;43m=\u001b[39;49m\u001b[43m \u001b[49m\u001b[43m[\u001b[49m\u001b[38;5;241;43m25000\u001b[39;49m\u001b[43m,\u001b[49m\u001b[38;5;241;43m0.5\u001b[39;49m\u001b[43m]\u001b[49m\u001b[43m)\u001b[49m\n\u001b[1;32m     51\u001b[0m water_samples_mt_only \u001b[38;5;241m=\u001b[39m samples[\u001b[38;5;241m0\u001b[39m][:, \u001b[38;5;241m0\u001b[39m]\n\u001b[1;32m     52\u001b[0m melt_samples_mt_only \u001b[38;5;241m=\u001b[39m samples[\u001b[38;5;241m0\u001b[39m][:, \u001b[38;5;241m1\u001b[39m]\n",
      "File \u001b[0;32m~/src/SEL/pide/inversion.py:915\u001b[0m, in \u001b[0;36mmetropolis_hastings_two_param\u001b[0;34m(object, cond_list, initial_params, param_name_1, param_name_2, upper_limits, lower_limits, sigma_cond, proposal_stds, n_iter, vp_list, vs_list, sigma_vs, sigma_vp, burning, transition_zone, num_cpu, **kwargs)\u001b[0m\n\u001b[1;32m    911\u001b[0m misfits_all \u001b[38;5;241m=\u001b[39m []\n\u001b[1;32m    913\u001b[0m \u001b[38;5;28;01mfor\u001b[39;00m idx \u001b[38;5;129;01min\u001b[39;00m \u001b[38;5;28mrange\u001b[39m(\u001b[38;5;241m0\u001b[39m,\u001b[38;5;28mlen\u001b[39m(index_list)):\n\u001b[0;32m--> 915\u001b[0m \tc \u001b[38;5;241m=\u001b[39m \u001b[43m_solv_MCMC_two_param\u001b[49m\u001b[43m(\u001b[49m\u001b[43mindex\u001b[49m\u001b[43m \u001b[49m\u001b[38;5;241;43m=\u001b[39;49m\u001b[43m \u001b[49m\u001b[43mindex_list\u001b[49m\u001b[43m[\u001b[49m\u001b[43midx\u001b[49m\u001b[43m]\u001b[49m\u001b[43m,\u001b[49m\u001b[43m \u001b[49m\u001b[38;5;28;43mobject\u001b[39;49m\u001b[43m \u001b[49m\u001b[38;5;241;43m=\u001b[39;49m\u001b[43m \u001b[49m\u001b[38;5;28;43mobject\u001b[39;49m\u001b[43m,\u001b[49m\u001b[43m \u001b[49m\u001b[43mcond_list\u001b[49m\u001b[43m \u001b[49m\u001b[38;5;241;43m=\u001b[39;49m\u001b[43m \u001b[49m\u001b[43mcond_list\u001b[49m\u001b[43m,\u001b[49m\u001b[43m \u001b[49m\u001b[43minitial_params\u001b[49m\u001b[43m \u001b[49m\u001b[38;5;241;43m=\u001b[39;49m\u001b[43m \u001b[49m\u001b[43minitial_params\u001b[49m\u001b[43m,\u001b[49m\u001b[43m \u001b[49m\u001b[43mparam_name_1\u001b[49m\u001b[43m \u001b[49m\u001b[38;5;241;43m=\u001b[39;49m\u001b[43m \u001b[49m\u001b[43mparam_name_1\u001b[49m\u001b[43m,\u001b[49m\u001b[43m \u001b[49m\u001b[43mparam_name_2\u001b[49m\u001b[38;5;241;43m=\u001b[39;49m\u001b[43m \u001b[49m\u001b[43mparam_name_2\u001b[49m\u001b[43m,\u001b[49m\n\u001b[1;32m    916\u001b[0m \u001b[43m\t\u001b[49m\u001b[43mupper_limits\u001b[49m\u001b[43m \u001b[49m\u001b[38;5;241;43m=\u001b[39;49m\u001b[43m \u001b[49m\u001b[43mupper_limits\u001b[49m\u001b[43m,\u001b[49m\u001b[43m \u001b[49m\u001b[43mlower_limits\u001b[49m\u001b[43m \u001b[49m\u001b[38;5;241;43m=\u001b[39;49m\u001b[43m \u001b[49m\u001b[43mlower_limits\u001b[49m\u001b[43m,\u001b[49m\u001b[43m \u001b[49m\u001b[43msigma_cond\u001b[49m\u001b[43m \u001b[49m\u001b[38;5;241;43m=\u001b[39;49m\u001b[43m \u001b[49m\u001b[43msigma_cond\u001b[49m\u001b[43m,\u001b[49m\u001b[43m \u001b[49m\u001b[43mproposal_stds\u001b[49m\u001b[43m \u001b[49m\u001b[38;5;241;43m=\u001b[39;49m\u001b[43m \u001b[49m\u001b[43mproposal_stds\u001b[49m\u001b[43m \u001b[49m\u001b[43m,\u001b[49m\u001b[43m \u001b[49m\u001b[43mn_iter\u001b[49m\u001b[38;5;241;43m=\u001b[39;49m\u001b[43m \u001b[49m\u001b[43mn_iter\u001b[49m\u001b[43m,\u001b[49m\u001b[43m \u001b[49m\u001b[43mburning\u001b[49m\u001b[43m \u001b[49m\u001b[38;5;241;43m=\u001b[39;49m\u001b[43m \u001b[49m\u001b[43mburning\u001b[49m\u001b[43m,\u001b[49m\u001b[43m \u001b[49m\u001b[43mvp_list\u001b[49m\u001b[43m \u001b[49m\u001b[38;5;241;43m=\u001b[39;49m\u001b[43m \u001b[49m\u001b[43mvp_list\u001b[49m\u001b[43m,\u001b[49m\u001b[43m \u001b[49m\u001b[43mvs_list\u001b[49m\u001b[43m \u001b[49m\u001b[38;5;241;43m=\u001b[39;49m\u001b[43m \u001b[49m\u001b[43mvs_list\u001b[49m\u001b[43m,\u001b[49m\n\u001b[1;32m    917\u001b[0m \u001b[43m\t\u001b[49m\u001b[43msigma_vp\u001b[49m\u001b[43m \u001b[49m\u001b[38;5;241;43m=\u001b[39;49m\u001b[43m \u001b[49m\u001b[43msigma_vp\u001b[49m\u001b[43m,\u001b[49m\u001b[43m \u001b[49m\u001b[43msigma_vs\u001b[49m\u001b[43m \u001b[49m\u001b[38;5;241;43m=\u001b[39;49m\u001b[43m \u001b[49m\u001b[43msigma_vs\u001b[49m\u001b[43m,\u001b[49m\n\u001b[1;32m    918\u001b[0m \u001b[43m\t\u001b[49m\u001b[43mwater_solv\u001b[49m\u001b[43m \u001b[49m\u001b[38;5;241;43m=\u001b[39;49m\u001b[43m \u001b[49m\u001b[43mwater_solv\u001b[49m\u001b[43m,\u001b[49m\u001b[43m \u001b[49m\u001b[43mcomp_solv\u001b[49m\u001b[43m \u001b[49m\u001b[38;5;241;43m=\u001b[39;49m\u001b[43m \u001b[49m\u001b[43mcomp_solv\u001b[49m\u001b[43m,\u001b[49m\u001b[43m \u001b[49m\u001b[43mcomp_index\u001b[49m\u001b[43m \u001b[49m\u001b[38;5;241;43m=\u001b[39;49m\u001b[43m \u001b[49m\u001b[43mcomp_index\u001b[49m\u001b[43m,\u001b[49m\u001b[43m \u001b[49m\u001b[43mcontinue_bool\u001b[49m\u001b[43m \u001b[49m\u001b[38;5;241;43m=\u001b[39;49m\u001b[43m \u001b[49m\u001b[43mcontinue_bool\u001b[49m\u001b[43m,\u001b[49m\u001b[43m \u001b[49m\u001b[43madaptive_alg\u001b[49m\u001b[43m \u001b[49m\u001b[38;5;241;43m=\u001b[39;49m\u001b[43m \u001b[49m\u001b[43madaptive_alg\u001b[49m\u001b[43m,\u001b[49m\u001b[43m \u001b[49m\u001b[43madaptive_check_length\u001b[49m\u001b[43m \u001b[49m\u001b[38;5;241;43m=\u001b[39;49m\u001b[43m \u001b[49m\u001b[43madaptive_check_length\u001b[49m\u001b[43m,\u001b[49m\n\u001b[1;32m    919\u001b[0m \u001b[43m\t\u001b[49m\u001b[43mstep_size_limits\u001b[49m\u001b[43m \u001b[49m\u001b[38;5;241;43m=\u001b[39;49m\u001b[43m \u001b[49m\u001b[43mstep_size_limits\u001b[49m\u001b[43m,\u001b[49m\u001b[43m \u001b[49m\u001b[43mideal_acceptance_bounds\u001b[49m\u001b[43m \u001b[49m\u001b[38;5;241;43m=\u001b[39;49m\u001b[43m \u001b[49m\u001b[43mideal_acceptance_bounds\u001b[49m\u001b[43m)\u001b[49m\n\u001b[1;32m    921\u001b[0m \tsample_distr\u001b[38;5;241m.\u001b[39mappend(c[\u001b[38;5;241m0\u001b[39m])\n\u001b[1;32m    922\u001b[0m \tacceptance_rates\u001b[38;5;241m.\u001b[39mappend(c[\u001b[38;5;241m1\u001b[39m])\n",
      "File \u001b[0;32m~/src/SEL/pide/inversion.py:501\u001b[0m, in \u001b[0;36m_solv_MCMC_two_param\u001b[0;34m(index, cond_list, object, initial_params, param_name_1, param_name_2, upper_limits, lower_limits, sigma_cond, proposal_stds, n_iter, burning, water_solv, comp_solv, continue_bool, vp_list, vs_list, sigma_vp, sigma_vs, adaptive_alg, ideal_acceptance_bounds, adaptive_check_length, comp_index, step_size_limits, transition_zone)\u001b[0m\n\u001b[1;32m    498\u001b[0m \t\t\u001b[38;5;28;01mexcept\u001b[39;00m \u001b[38;5;167;01mValueError\u001b[39;00m:\n\u001b[1;32m    499\u001b[0m \t\t\twater_end \u001b[38;5;241m=\u001b[39m \u001b[38;5;241m1e5\u001b[39m\n\u001b[0;32m--> 501\u001b[0m \t\t\u001b[38;5;28;43mobject\u001b[39;49m\u001b[38;5;241;43m.\u001b[39;49m\u001b[43mcalculate_density_fluid\u001b[49m\u001b[43m(\u001b[49m\u001b[43msol_idx\u001b[49m\u001b[43m \u001b[49m\u001b[38;5;241;43m=\u001b[39;49m\u001b[43m \u001b[49m\u001b[43mindex\u001b[49m\u001b[43m,\u001b[49m\u001b[43m \u001b[49m\u001b[43mmethod\u001b[49m\u001b[43m \u001b[49m\u001b[38;5;241;43m=\u001b[39;49m\u001b[43m \u001b[49m\u001b[38;5;124;43m'\u001b[39;49m\u001b[38;5;124;43marray\u001b[39;49m\u001b[38;5;124;43m'\u001b[39;49m\u001b[43m,\u001b[49m\u001b[43m \u001b[49m\u001b[43minterp_for_iter\u001b[49m\u001b[43m \u001b[49m\u001b[38;5;241;43m=\u001b[39;49m\u001b[43m \u001b[49m\u001b[38;5;28;43;01mTrue\u001b[39;49;00m\u001b[43m,\u001b[49m\u001b[43m \u001b[49m\u001b[43mwater_start\u001b[49m\u001b[43m \u001b[49m\u001b[38;5;241;43m=\u001b[39;49m\u001b[43m \u001b[49m\u001b[38;5;241;43m0\u001b[39;49m\u001b[43m,\u001b[49m\u001b[43m \u001b[49m\u001b[43mwater_end\u001b[49m\u001b[43m \u001b[49m\u001b[38;5;241;43m=\u001b[39;49m\u001b[43m \u001b[49m\u001b[43mwater_end\u001b[49m\u001b[43m)\u001b[49m\n\u001b[1;32m    503\u001b[0m \u001b[38;5;66;03m#Calculating the initial conductivity\u001b[39;00m\n\u001b[1;32m    504\u001b[0m cond_init \u001b[38;5;241m=\u001b[39m \u001b[38;5;28mobject\u001b[39m\u001b[38;5;241m.\u001b[39mcalculate_conductivity(method \u001b[38;5;241m=\u001b[39m \u001b[38;5;124m'\u001b[39m\u001b[38;5;124mindex\u001b[39m\u001b[38;5;124m'\u001b[39m, sol_idx \u001b[38;5;241m=\u001b[39m index)\n",
      "File \u001b[0;32m~/src/SEL/pide/pide.py:5319\u001b[0m, in \u001b[0;36mpide.calculate_density_fluid\u001b[0;34m(self, method, **kwargs)\u001b[0m\n\u001b[1;32m   5312\u001b[0m \t\u001b[38;5;28mself\u001b[39m\u001b[38;5;241m.\u001b[39mdens_melt_fluid, \u001b[38;5;28mself\u001b[39m\u001b[38;5;241m.\u001b[39mvp_melt_fluid, \u001b[38;5;28mself\u001b[39m\u001b[38;5;241m.\u001b[39mK_melt_fluid \u001b[38;5;241m=\u001b[39m Holland_Green_Powell_2018_ds633_MeltEOS(T \u001b[38;5;241m=\u001b[39m temp, P \u001b[38;5;241m=\u001b[39m pres, sio2 \u001b[38;5;241m=\u001b[39m melt_comp_calc[:,\u001b[38;5;241m0\u001b[39m],\n\u001b[1;32m   5313\u001b[0m \tal2o3 \u001b[38;5;241m=\u001b[39m melt_comp_calc[:,\u001b[38;5;241m1\u001b[39m],mgo \u001b[38;5;241m=\u001b[39m melt_comp_calc[:,\u001b[38;5;241m2\u001b[39m],feo \u001b[38;5;241m=\u001b[39m melt_comp_calc[:,\u001b[38;5;241m3\u001b[39m],cao \u001b[38;5;241m=\u001b[39m melt_comp_calc[:,\u001b[38;5;241m4\u001b[39m],\n\u001b[1;32m   5314\u001b[0m \tna2o \u001b[38;5;241m=\u001b[39m melt_comp_calc[:,\u001b[38;5;241m5\u001b[39m],k2o \u001b[38;5;241m=\u001b[39m melt_comp_calc[:,\u001b[38;5;241m6\u001b[39m],tio2 \u001b[38;5;241m=\u001b[39m melt_comp_calc[:,\u001b[38;5;241m7\u001b[39m],mno \u001b[38;5;241m=\u001b[39m melt_comp_calc[:,\u001b[38;5;241m8\u001b[39m],p2o5 \u001b[38;5;241m=\u001b[39m melt_comp_calc[:,\u001b[38;5;241m9\u001b[39m],\n\u001b[1;32m   5315\u001b[0m \tcr2o3 \u001b[38;5;241m=\u001b[39m melt_comp_calc[:,\u001b[38;5;241m10\u001b[39m],h2o \u001b[38;5;241m=\u001b[39m melt_comp_calc[:,\u001b[38;5;241m11\u001b[39m])\n\u001b[1;32m   5317\u001b[0m \u001b[38;5;28;01melse\u001b[39;00m:\n\u001b[0;32m-> 5319\u001b[0m \tdens_melt_fluid, vp_melt_fluid, K_melt_fluid \u001b[38;5;241m=\u001b[39m Holland_Green_Powell_2018_ds633_MeltEOS(T \u001b[38;5;241m=\u001b[39m temp, P \u001b[38;5;241m=\u001b[39m pres, sio2 \u001b[38;5;241m=\u001b[39m \u001b[43mmelt_comp_calc\u001b[49m\u001b[43m[\u001b[49m\u001b[43m:\u001b[49m\u001b[43m,\u001b[49m\u001b[38;5;241;43m0\u001b[39;49m\u001b[43m]\u001b[49m,\n\u001b[1;32m   5320\u001b[0m \tal2o3 \u001b[38;5;241m=\u001b[39m melt_comp_calc[:,\u001b[38;5;241m1\u001b[39m],mgo \u001b[38;5;241m=\u001b[39m melt_comp_calc[:,\u001b[38;5;241m2\u001b[39m],feo \u001b[38;5;241m=\u001b[39m melt_comp_calc[:,\u001b[38;5;241m3\u001b[39m],cao \u001b[38;5;241m=\u001b[39m melt_comp_calc[:,\u001b[38;5;241m4\u001b[39m],\n\u001b[1;32m   5321\u001b[0m \tna2o \u001b[38;5;241m=\u001b[39m melt_comp_calc[:,\u001b[38;5;241m5\u001b[39m],k2o \u001b[38;5;241m=\u001b[39m melt_comp_calc[:,\u001b[38;5;241m6\u001b[39m],tio2 \u001b[38;5;241m=\u001b[39m melt_comp_calc[:,\u001b[38;5;241m7\u001b[39m],mno \u001b[38;5;241m=\u001b[39m melt_comp_calc[:,\u001b[38;5;241m8\u001b[39m],p2o5 \u001b[38;5;241m=\u001b[39m melt_comp_calc[:,\u001b[38;5;241m9\u001b[39m],\n\u001b[1;32m   5322\u001b[0m \tcr2o3 \u001b[38;5;241m=\u001b[39m melt_comp_calc[:,\u001b[38;5;241m10\u001b[39m],h2o \u001b[38;5;241m=\u001b[39m melt_comp_calc[:,\u001b[38;5;241m11\u001b[39m])\n\u001b[1;32m   5324\u001b[0m \t\u001b[38;5;28mself\u001b[39m\u001b[38;5;241m.\u001b[39minterp_1d_dens_fluid \u001b[38;5;241m=\u001b[39m interp1d(h2o_melt_local,dens_melt_fluid)\n\u001b[1;32m   5325\u001b[0m \t\u001b[38;5;28mself\u001b[39m\u001b[38;5;241m.\u001b[39minterp_1d_vp_melt_fluid \u001b[38;5;241m=\u001b[39m interp1d(h2o_melt_local,vp_melt_fluid)\n",
      "\u001b[0;31mTypeError\u001b[0m: list indices must be integers or slices, not tuple"
     ]
    }
   ],
   "source": [
    "p_obj = pide.pide()\n",
    "\n",
    "temperature = [1500]\n",
    "pressure = [3]\n",
    "\n",
    "p_obj.set_temperature(temperature)\n",
    "p_obj.set_pressure(pressure)\n",
    "\n",
    "#setting up a simple lherzolite composition\n",
    "p_obj.set_composition_solid_mineral(ol = 0.6,opx = 0.3, cpx = 0.05, garnet = 0.05)\n",
    "#setting the mineral conductivity choices\n",
    "p_obj.set_mineral_conductivity_choice(ol = 4, opx = 0, garnet = 0, cpx = 6)\n",
    "p_obj.set_solid_phs_mix_method(1) #HS lower bound\n",
    "\n",
    "#Setting up Sifre2014 as the conductivity choice\n",
    "p_obj.set_melt_fluid_conductivity_choice(melt = 0)\n",
    "\n",
    "#Setting up melt CO2\n",
    "p_obj.set_melt_properties(co2 = 100)\n",
    "\n",
    "#Setting up the melt-solid mixture relationship to Tubes model\n",
    "p_obj.set_solid_melt_fluid_mix_method(1)\n",
    "\n",
    "p_obj.set_mantle_water_partitions(opx_melt = 1,cpx_melt = 1)\n",
    "\n",
    "res_external = 10\n",
    "\n",
    "#Bounds for the search space.\n",
    "water_min = np.zeros(len(temperature))\n",
    "water_max = 3000.0 * np.ones(len(temperature))\n",
    "melt_min = 0.07 * np.ones(len(temperature))\n",
    "melt_max = 0.5 * np.ones(len(temperature))\n",
    "\n",
    "cond_external = [1.0/res_external]\n",
    "initial_water = 1000\n",
    "initial_melt = 0.3\n",
    "initial_params = [[initial_water, initial_melt]]\n",
    "\n",
    "sigma = 0.025 * np.ones(len(temperature))#in log\n",
    "n_iterations = 50000\n",
    "proposal_std = [200,0.25]\n",
    "burning = 2000\n",
    "\n",
    "samples, acceptance_rates, misfits, samples_all, misfits_all = metropolis_hastings_two_param(object = p_obj, cond_list = cond_external,\n",
    "initial_params = initial_params,param_name_1 = 'bulk_water',\n",
    "param_name_2= \"melt_fluid_mass_frac\", upper_limits = (water_max,melt_max),\n",
    "\tlower_limits = (water_min,melt_min), sigma_cond = sigma,proposal_stds=proposal_std\n",
    "\t,n_iter = n_iterations, burning = burning, transition_zone = False,num_cpu = 1,adaptive_alg = True,\n",
    "\tstep_size_limits = [25000,0.5])\n",
    "\n",
    "water_samples_mt_only = samples[0][:, 0]\n",
    "melt_samples_mt_only = samples[0][:, 1]\n",
    "\n",
    "water_samples_all_mt_only = samples_all[0][:, 0]\n",
    "melt_samples_all_mt_only = samples_all[0][:, 1]"
   ]
  },
  {
   "cell_type": "markdown",
   "id": "ee8bca09",
   "metadata": {},
   "source": [
    "The **posterior distributions** can be visualized in two different ways using the built-in plotting functions in **pide**:\n",
    "\n",
    "1. **`plot_posterior_distribution_two_params`**  \n",
    "   - Generates histogram plots for the selected parameters, showing the distribution of accepted samples.\n",
    "\n",
    "2. **`plot_posterior_distribution_heatmap_two_params`**  \n",
    "   - Creates heatmaps representing the joint posterior distributions of the two parameters, providing a visual summary of parameter correlations."
   ]
  },
  {
   "cell_type": "code",
   "execution_count": null,
   "id": "c2a2c5d6",
   "metadata": {
    "scrolled": true
   },
   "outputs": [],
   "source": [
    "plot_posterior_distribution_two_params(data_param_1 = melt_samples_mt_only*1e2,data_param_2 = water_samples_mt_only,\n",
    "                                    param1_name = 'Melt Mass Fraction (%)', param2_name = 'Bulk Water Content (ppm)',\n",
    "                                    fig_size = (13,4),save = False)\n",
    "\n",
    "plot_posterior_distribution_heatmap_two_params(data_param_1 = melt_samples_mt_only*1e2,\n",
    "data_param_2 = water_samples_mt_only, param_1_min = 0, param_1_max = np.amax(melt_samples_mt_only*1e2),\n",
    "param_2_min = 0, param_2_max = np.amax(water_samples_all_mt_only),\n",
    "param1_name = 'Melt Mass Fraction (%)',\n",
    "param2_name = \"Bulk Water Content (ppm)\",\n",
    "file_name = f\"melt_frac_solution.png\",save = False)"
   ]
  },
  {
   "cell_type": "markdown",
   "id": "7ec65673",
   "metadata": {},
   "source": [
    "# Joint MT-Seismic Probabilistic Inversion\n",
    "\n",
    "In this section, we extend our Markov Chain Monte Carlo (MCMC) sampling approach to incorporate seismic velocity observations alongside magnetotelluric data. The joint inversion of multiple geophysical datasets has been shown to significantly reduce parameter uncertainties and provide more robust constraints on subsurface properties, particularly melt fraction estimates in volcanic systems.\n",
    "\n",
    "## Seismic Velocity Constraints\n",
    "\n",
    "We incorporate the following seismic observations into our MCMC framework:\n",
    "- **P-wave velocity (Vp)**: 7.53 km/s\n",
    "- **S-wave velocity (Vs)**: 4.08 km/s\n",
    "\n",
    "## Modified MCMC Implementation\n",
    "\n",
    "To integrate these seismic constraints, we modify the `metropolis_hastings_two_param` function by introducing four additional parameters:\n",
    "\n",
    "| Parameter | Description |\n",
    "|-----------|-------------|\n",
    "| `vp_external` | Observed P-wave velocity (km/s) |\n",
    "| `vs_external` | Observed S-wave velocity (km/s) |\n",
    "| `sigma_vp` | Standard deviation of Vp measurement uncertainty |\n",
    "| `sigma_vs` | Standard deviation of Vs measurement uncertainty |\n",
    "\n",
    "The inclusion of these parameters allows the algorithm to evaluate proposed models against both electromagnetic and seismic observations simultaneously, potentially leading to improved constraints on melt fraction and other petrophysical parameters."
   ]
  },
  {
   "cell_type": "code",
   "execution_count": null,
   "id": "879ad67e",
   "metadata": {
    "scrolled": true
   },
   "outputs": [],
   "source": [
    "p_obj = pide.pide()\n",
    "\n",
    "temperature = [1500]\n",
    "pressure = [3]\n",
    "\n",
    "p_obj.set_temperature(temperature)\n",
    "p_obj.set_pressure(pressure)\n",
    "\n",
    "#setting up a simple lherzolite composition\n",
    "p_obj.set_composition_solid_mineral(ol = 0.6,opx = 0.3, cpx = 0.05, garnet = 0.05)\n",
    "#setting the mineral conductivity choices\n",
    "p_obj.set_mineral_conductivity_choice(ol = 4, opx = 0, garnet = 0, cpx = 6)\n",
    "p_obj.set_solid_phs_mix_method(1) #HS lower bound\n",
    "\n",
    "#Setting up Sifre2014 as the conductivity choice\n",
    "p_obj.set_melt_fluid_conductivity_choice(melt = 0)\n",
    "\n",
    "#Setting up melt CO2\n",
    "p_obj.set_melt_properties(co2 = 100)\n",
    "\n",
    "#Setting up the melt-solid mixture relationship to Tubes model\n",
    "p_obj.set_solid_melt_fluid_mix_method(1)\n",
    "\n",
    "p_obj.set_mantle_water_partitions(opx_melt = 1,cpx_melt = 1)\n",
    "\n",
    "res_external = 10\n",
    "\n",
    "#Bounds for the search space.\n",
    "water_min = np.zeros(len(temperature))\n",
    "water_max = 3000.0 * np.ones(len(temperature))\n",
    "melt_min = 0.07 * np.ones(len(temperature))\n",
    "melt_max = 0.5 * np.ones(len(temperature))\n",
    "\n",
    "cond_external = [1.0/res_external]\n",
    "initial_water = 1000\n",
    "initial_melt = 0.3\n",
    "initial_params = [[initial_water, initial_melt]]\n",
    "\n",
    "vp_external = [7.53]\n",
    "vs_external = [4.08]\n",
    "sigma_vp = [0.05]\n",
    "sigma_vs = [0.05]\n",
    "\n",
    "sigma = 0.025 * np.ones(len(temperature))#in log\n",
    "n_iterations = 50000\n",
    "proposal_std = [200,0.25]\n",
    "burning = 2000\n",
    "\n",
    "samples, acceptance_rates, misfits, samples_all, misfits_all = metropolis_hastings_two_param(object = p_obj, cond_list = cond_external,\n",
    "initial_params = initial_params,param_name_1 = 'bulk_water',\n",
    "param_name_2= \"melt_fluid_mass_frac\", upper_limits = (water_max,melt_max),\n",
    "\tlower_limits = (water_min,melt_min), sigma_cond = sigma,proposal_stds=proposal_std\n",
    "\t,n_iter = n_iterations, burning = burning, transition_zone = False,num_cpu = 1,adaptive_alg = True,\n",
    "\tstep_size_limits = [25000,0.5],vp_list = vp_external, vs_list = vs_external,sigma_vp = sigma_vp, sigma_vs = sigma_vs)\n",
    "\n",
    "water_samples = samples[0][:, 0]\n",
    "melt_samples = samples[0][:, 1]\n",
    "\n",
    "water_samples_all = samples_all[0][:, 0]\n",
    "melt_samples_all = samples_all[0][:, 1]"
   ]
  },
  {
   "cell_type": "code",
   "execution_count": null,
   "id": "c1163ee2",
   "metadata": {
    "scrolled": true
   },
   "outputs": [],
   "source": [
    "plot_posterior_distribution_two_params(data_param_1 = melt_samples*1e2,data_param_2 = water_samples,\n",
    "                                    param1_name = 'Melt Mass Fraction (%)', param2_name = 'Bulk Water Content (ppm)',\n",
    "                                    fig_size = (13,4),save = False)\n",
    "\n",
    "plot_posterior_distribution_heatmap_two_params(data_param_1 = melt_samples*1e2,\n",
    "data_param_2 = water_samples, param_1_min = 0, param_1_max = 35,\n",
    "param_2_min = 0, param_2_max = 1300,\n",
    "param1_name = 'Melt Mass Fraction (%)',\n",
    "param2_name = \"Bulk Water Content (ppm)\",\n",
    "file_name = f\"melt_frac_solution.png\",save = False)"
   ]
  },
  {
   "cell_type": "markdown",
   "id": "2a4014e3",
   "metadata": {},
   "source": [
    "## Comparison of MT-only and MT-Seismic MCMC methods\n",
    "Let's now visualize both posterior distributions using identical axis bounds to facilitate direct comparison. As clearly evident, incorporating seismic velocity constraints substantially improves the melt fraction estimates, reducing the parameter uncertainty and better resolving the water content-melt fraction trade-off."
   ]
  },
  {
   "cell_type": "code",
   "execution_count": null,
   "id": "90006ee5",
   "metadata": {},
   "outputs": [],
   "source": [
    "plot_posterior_distribution_heatmap_two_params(data_param_1 = melt_samples_mt_only*1e2,\n",
    "data_param_2 = water_samples_mt_only, param_1_min = 0, param_1_max = 35,\n",
    "param_2_min = 0, param_2_max = 1300,\n",
    "param1_name = 'Melt Mass Fraction (%)',\n",
    "param2_name = \"Bulk Water Content (ppm)\",\n",
    "file_name = f\"melt_frac_solution.png\",save = False)\n",
    "\n",
    "plot_posterior_distribution_heatmap_two_params(data_param_1 = melt_samples*1e2,\n",
    "data_param_2 = water_samples, param_1_min = 0, param_1_max = 35,\n",
    "param_2_min = 0, param_2_max = 1300,\n",
    "param1_name = 'Melt Mass Fraction (%)',\n",
    "param2_name = \"Bulk Water Content (ppm)\",\n",
    "file_name = f\"melt_frac_solution.png\",save = False)"
   ]
  },
  {
   "cell_type": "code",
   "execution_count": null,
   "id": "e8c02e0c",
   "metadata": {},
   "outputs": [],
   "source": []
  }
 ],
 "metadata": {
  "kernelspec": {
   "display_name": "Python 3 (ipykernel)",
   "language": "python",
   "name": "python3"
  },
  "language_info": {
   "codemirror_mode": {
    "name": "ipython",
    "version": 3
   },
   "file_extension": ".py",
   "mimetype": "text/x-python",
   "name": "python",
   "nbconvert_exporter": "python",
   "pygments_lexer": "ipython3",
   "version": "3.10.12"
  }
 },
 "nbformat": 4,
 "nbformat_minor": 5
}
