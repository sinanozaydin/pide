{
 "cells": [
  {
   "cell_type": "markdown",
   "id": "2367c94a-db0f-408f-a0e4-e7ca6ccace21",
   "metadata": {},
   "source": [
    "## <span style=\"color:green\"> Notebook - Mantle Water Content and Rheology from MT</span>\n",
    "<span style=\"color:purple\">Sinan Ozaydin, School of Geosciences, The University of Sydney, NSW 2006, Australia <br/> </span>\n",
    "<span style=\"color:purple\">sinan.ozaydin@protonmail.com | sinan.ozaydin@sydney.edu.au </span>"
   ]
  },
  {
   "cell_type": "code",
   "execution_count": 1,
   "id": "0f790da9-a709-4730-9715-423cd3381ba7",
   "metadata": {},
   "outputs": [
    {
     "name": "stderr",
     "output_type": "stream",
     "text": [
      "/home/sinan/.local/lib/python3.10/site-packages/matplotlib/projections/__init__.py:63: UserWarning: Unable to import Axes3D. This may be due to multiple versions of Matplotlib being installed (e.g. as a system package and as a pip package). As a result, the 3D projection is not available.\n",
      "  warnings.warn(\"Unable to import Axes3D. This may be due to multiple versions of \"\n"
     ]
    }
   ],
   "source": [
    "import os\n",
    "from pathlib import Path\n",
    "import numpy as np\n",
    "from scipy.interpolate import griddata\n",
    "import matplotlib.pyplot as plt\n",
    "from netCDF4 import Dataset\n",
    "\n",
    "import pide\n",
    "from pide.mt.mt_model_read import read_ModEM_rho\n",
    "from pide.utils.utils import read_csv, associate_coordinates\n",
    "from pide.utils.gis_tools import lat_lon_to_utm, get_utm_zone_number\n",
    "from pide.inversion import conductivity_solver_single_param\n",
    "\n",
    "import time\n",
    "\n",
    "notebook_path = Path().resolve()"
   ]
  },
  {
   "cell_type": "markdown",
   "id": "71c75952-4615-43b9-9888-d97c4616f36c",
   "metadata": {},
   "source": [
    "In this notebook, we will convert the MT models of Western United States into water content maps at 96 and 150 km. This will require a simple inversion process with the given environment. We will use the same cells in Notebook 7 to read the models and assign the relevant indexes.\n",
    "\n",
    "First of all, let's read the MT model by using the ***read_ModEM_rho*** function and determine the model center in UTM coordinates to georeference the model using the functions from ***pide.utils.gis_tools***. We will be using the depths according to 96 and 155 kilometer slices to calculate our water content maps."
   ]
  },
  {
   "cell_type": "code",
   "execution_count": 2,
   "id": "da04052e-f375-4868-8708-5ec39ab3e3ae",
   "metadata": {
    "scrolled": true
   },
   "outputs": [
    {
     "name": "stderr",
     "output_type": "stream",
     "text": [
      "/home/sinan/src/SEEL/pide/utils/gis_tools.py:42: FutureWarning: This function is deprecated. See: https://pyproj4.github.io/pyproj/stable/gotchas.html#upgrading-to-pyproj-2-from-pyproj-1\n",
      "  utm_x, utm_y = transform(wgs84, utm, longitude, latitude)\n"
     ]
    }
   ],
   "source": [
    "wus_rho_path = os.path.join(notebook_path,'..','example_data','WUS_MT_Model','WUS.MT.Bedrosian2021.resistivity.rho')\n",
    "\n",
    "#model centers for georeferencing\n",
    "mc_lat = 40.75\n",
    "mc_lon = -113.25\n",
    "\n",
    "utm_no = get_utm_zone_number(mc_lon)\n",
    "mc_x, mc_y = lat_lon_to_utm(mc_lat,mc_lon)\n",
    "\n",
    "#reading the MT model file\n",
    "rho, mesh_x, mesh_y, mesh_z = read_ModEM_rho(rho_file_path=wus_rho_path)\n",
    "\n",
    "#converting x and y to utm coordinates\n",
    "x = mesh_x\n",
    "y = mesh_y\n",
    "\n",
    "#Getting the vertical indexes of \n",
    "idx_96 = (np.abs((mesh_z/1e3) - 96.0)).argmin()\n",
    "idx_155 = (np.abs((mesh_z/1e3) - 155.0)).argmin()\n",
    "\n",
    "#Getting the resistivities at 50 and 100 km\n",
    "rho_96 = rho[idx_96].flatten()\n",
    "rho_155 = rho[idx_155].flatten()\n",
    "\n",
    "cond_96 = 1.0/rho_96\n",
    "cond_155 = 1.0/rho_155"
   ]
  },
  {
   "cell_type": "markdown",
   "id": "bcbc2a62-469e-465b-8445-ea45c181fae0",
   "metadata": {},
   "source": [
    "Now, let's read the temperature model with the help of utils.read_csv function. and then georefence them into the UTM coordinates."
   ]
  },
  {
   "cell_type": "code",
   "execution_count": 3,
   "id": "68c3bd9b",
   "metadata": {},
   "outputs": [
    {
     "name": "stderr",
     "output_type": "stream",
     "text": [
      "/home/sinan/src/SEEL/pide/utils/gis_tools.py:42: FutureWarning: This function is deprecated. See: https://pyproj4.github.io/pyproj/stable/gotchas.html#upgrading-to-pyproj-2-from-pyproj-1\n",
      "  utm_x, utm_y = transform(wgs84, utm, longitude, latitude)\n"
     ]
    }
   ],
   "source": [
    "#Reading the temperature model\n",
    "T_path = os.path.join(notebook_path,'..','example_data','WUS_MT_Model','WinterCGTemp_Cropped_WUS.lis')\n",
    "data_T = read_csv(filename=T_path, delim = ' ')\n",
    "data_T = np.array(data_T[1:], dtype = float) #Skipping header  with 1:\n",
    "\n",
    "data_T_depth = data_T[:,3]\n",
    "data_T_temp = data_T[:,4] + 273.15 #converting from C to K\n",
    "data_T_lat = data_T[:,2]\n",
    "data_T_lon = data_T[:,1] - 360.0 #Converting it to negative before Greenwich.\n",
    "\n",
    "#Getting all indices of latitude and longitude by using a single depth.\n",
    "data_T_lat = data_T_lat[np.where(data_T_depth==-49.0)[0]]\n",
    "data_T_lon = data_T_lon[np.where(data_T_depth==-49.0)[0]]\n",
    "\n",
    "x_T, y_T = lat_lon_to_utm(latitude = data_T_lat, longitude = data_T_lon, zone_number = utm_no)\n",
    "\n",
    "x_T = x_T - mc_x\n",
    "y_T = y_T - mc_y\n",
    "\n",
    "\n",
    "T_96 = data_T_temp[np.where(data_T_depth==-97.0)[0]]\n",
    "T_155 = data_T_temp[np.where(data_T_depth==-155.0)[0]]\n",
    "\n",
    "#We want to make these calculations at 50 and 100 km. So only loading the T at those temperatures."
   ]
  },
  {
   "cell_type": "markdown",
   "id": "9df120ff-e37f-4e6e-9d66-18ef74e2940b",
   "metadata": {},
   "source": [
    "We also want to interpolate the temperature data between the points so we will have a more accurate distribution of temperature at each MT x,y location."
   ]
  },
  {
   "cell_type": "code",
   "execution_count": 4,
   "id": "5967e187",
   "metadata": {},
   "outputs": [],
   "source": [
    "#2D interpolation of Temperature field to make \n",
    "\n",
    "x_new = np.arange(np.amin(x_T),np.amax(x_T),30e3) #every 5_000 m\n",
    "y_new = np.arange(np.amin(y_T),np.amax(y_T),30e3) #every 5_000 m\n",
    "\n",
    "coords_mesh = np.meshgrid(x_new, y_new)\n",
    "\n",
    "points_interp = np.column_stack((x_T, y_T))\n",
    "\n",
    "\n",
    "T_96_interp = griddata(points_interp, T_96, (coords_mesh[0], coords_mesh[1]), method = 'cubic')\n",
    "T_155_interp = griddata(points_interp, T_155, (coords_mesh[0], coords_mesh[1]), method = 'cubic')\n",
    "\n",
    "\n",
    "T_96_interp = T_96_interp.flatten()\n",
    "T_155_interp = T_155_interp.flatten()\n",
    "coords_x = coords_mesh[0].flatten()\n",
    "coords_y = coords_mesh[1].flatten()\n",
    "\n",
    "#Applying mask for nan values at T due to interpolation out of bounds\n",
    "mask = np.isnan(T_96_interp)\n",
    "T_96_i = T_96_interp[~mask]\n",
    "T_155_i = T_155_interp[~mask]\n",
    "coords_x = coords_x[~mask]\n",
    "coords_y = coords_y[~mask]"
   ]
  },
  {
   "cell_type": "markdown",
   "id": "a88826d1-4ad5-48ab-a338-69dc137ffc1c",
   "metadata": {},
   "source": [
    "Now, we want to find the corresponding index numbers of temperature grid for the each MT grid locality. We can do that by the pide function form ***utils.utils.associate_coordinates*** function."
   ]
  },
  {
   "cell_type": "code",
   "execution_count": 5,
   "id": "782acc4d",
   "metadata": {},
   "outputs": [],
   "source": [
    "##associateding coordinates for with\n",
    "\n",
    "idx_ = associate_coordinates(sample_x = coords_x, sample_y = coords_y, target_x=x, target_y=y, num_cpu = 5)"
   ]
  },
  {
   "cell_type": "markdown",
   "id": "f884e363-712f-4e38-a27f-9f9d348689bd",
   "metadata": {},
   "source": [
    "Now that we have our temperature and MT model, we can set up the compositional environment to calculate the water content maps. To do this we first have to set up the compositional environment and how the water will behave in here."
   ]
  },
  {
   "cell_type": "code",
   "execution_count": null,
   "id": "180e85a5",
   "metadata": {},
   "outputs": [
    {
     "name": "stdout",
     "output_type": "stream",
     "text": [
      "\u001b[92mInversion process has started..\u001b[0m\n"
     ]
    }
   ],
   "source": [
    "p_obj = pide.pide()\n",
    "#T-P and composition\n",
    "p_obj.set_temperature(T_96_i[idx_])\n",
    "p_obj.set_pressure(96.0 / 33.0 * np.ones(len(T_96_i[idx_]))) #pressure roughly calculated with Depth[km]/33km - GPa\n",
    "p_obj.set_composition_solid_mineral(ol = 0.6,opx = 0.25,cpx = 0.1, garnet= 0.05)\n",
    "p_obj.revalue_arrays()\n",
    "\n",
    "#water thermodynamics\n",
    "p_obj.set_mantle_water_partitions(opx = 3, cpx = 6, garnet = 0)\n",
    "p_obj.set_parameter('ti_ol', 0.1)\n",
    "p_obj.set_mantle_water_solubility(opx = 3, ol = 4, cpx = 1, garnet = 0)\n",
    "max_water = p_obj.calculate_bulk_mantle_water_solubility()\n",
    "\n",
    "p_obj.set_mineral_conductivity_choice(ol = 4, opx = 0, garnet = 0, cpx = 6)\n",
    "p_obj.set_solid_phs_mix_method(1) #HS lower bound\n",
    "\n",
    "water_96, residual_list = conductivity_solver_single_param(object = p_obj, cond_list = cond_96,\n",
    "param_name = 'bulk_water', upper_limit_list = max_water,\n",
    "\t\tlower_limit_list= np.zeros(len(max_water)), search_start = 20, acceptence_threshold = 0.5,\n",
    "        num_cpu = 5)\n",
    "water_96 = np.array(water_96)"
   ]
  },
  {
   "cell_type": "code",
   "execution_count": null,
   "id": "29e611b3-878c-4730-8785-eb9011bafa7f",
   "metadata": {},
   "outputs": [],
   "source": [
    "#Calculating the 155 km slice.\n",
    "p_obj.reset()\n",
    "\n",
    "p_obj.set_temperature(T_155_i[idx_])\n",
    "p_obj.set_pressure(155.0 / 33.0) #pressure roughly calculated with Depth[km]/33km - GPa\n",
    "p_obj.set_composition_solid_mineral(ol = 0.6,opx = 0.25,cpx = 0.1, garnet= 0.05)\n",
    "p_obj.set_mineral_conductivity_choice(ol = 4, opx = 0, garnet = 0, cpx = 6)\n",
    "p_obj.revalue_arrays()\n",
    "\n",
    "#water thermodynamics\n",
    "p_obj.set_mantle_water_partitions(opx = 3, cpx = 6, garnet = 0)\n",
    "p_obj.set_parameter('ti_ol', 0.1)\n",
    "p_obj.set_mantle_water_solubility(opx = 3, ol = 4, cpx = 1, garnet = 0)\n",
    "max_water = p_obj.calculate_bulk_mantle_water_solubility()\n",
    "\n",
    "p_obj.set_mineral_conductivity_choice(ol = 4, opx = 0, garnet = 0, cpx = 6)\n",
    "p_obj.set_solid_phs_mix_method(1) #HS lower bound\n",
    "\n",
    "water_155, residual_list = conductivity_solver_single_param(object = p_obj, cond_list = cond_155,\n",
    "param_name = 'bulk_water', upper_limit_list = max_water,\n",
    "\t\tlower_limit_list= np.zeros(len(max_water)), search_start = 20, acceptence_threshold = 0.5,\n",
    "        num_cpu = 5)"
   ]
  },
  {
   "cell_type": "code",
   "execution_count": null,
   "id": "95b40935",
   "metadata": {},
   "outputs": [],
   "source": [
    "xi = np.arange(np.amin(x), np.amax(x),5e3)\n",
    "yi = np.arange(np.amin(y), np.amax(y),5e3)\n",
    "\n",
    "x_i,  y_i = np.meshgrid(xi,yi)\n",
    "\n",
    "points_interp = np.column_stack((x, y))\n",
    "\n",
    "water_96_ = griddata(points_interp, water_96, (x_i, y_i), method = 'cubic')\n",
    "water_155_ = griddata(points_interp, water_155, (x_i, y_i), method = 'cubic')\n",
    "res_96 = griddata(points_interp, np.log10(rho_96), (x_i, y_i), method = 'cubic')\n",
    "res_155 = griddata(points_interp, np.log10(rho_155), (x_i, y_i), method = 'cubic')\n",
    "\n",
    "fig = plt.figure(figsize = (20,10))\n",
    "ax1 = plt.subplot(221)\n",
    "cax1 = ax1.pcolormesh(xi,yi, water_96_, cmap = 'viridis')\n",
    "cax1.set_clim(0,400)\n",
    "cbar_ax = fig.colorbar(cax1, boundaries= np.linspace(0,400), orientation=\"horizontal\", pad=0.1,\n",
    "\t\t\t ticks = [0,200,400], ax = ax1, label = r'Bulk Water Content [$H_2O$ wt ppm]')\n",
    "\n",
    "cont = ax1.contour(xi, yi, water_96_, levels = [50, 100, 200, 400], alpha = 0.5,colors = 'white',linewidths = 0.75, linestyles = '--')\n",
    "ax1.clabel(cont, cont.levels, inline = True, fontsize = 8, colors = 'white')\n",
    "ax1.set_xlim(-1e6,1e6)\n",
    "ax1.set_ylim(-1e6,1e6)\n",
    "ax1.set_xlabel('Easting [m]')\n",
    "ax1.set_ylabel('Northing [m]')\n",
    "ax1.set_title('Water Content at 96 km')\n",
    "\n",
    "ax2 = plt.subplot(222)\n",
    "cax2 = ax2.pcolormesh(xi,yi, water_155_, cmap = 'viridis')\n",
    "cax2.set_clim(0,400)\n",
    "cbar_ax2 = fig.colorbar(cax2, boundaries= np.linspace(0,400), orientation=\"horizontal\", pad=0.1,\n",
    "\t\t\t ticks = [0,200,400], ax = ax2, label = r'Bulk Water Content [$H_2O$ wt ppm]')\n",
    "\n",
    "cont = ax2.contour(xi, yi, water_155_, levels = [50, 100, 200, 400], alpha = 0.5,colors = 'white',linewidths = 0.75, linestyles = '--')\n",
    "ax2.clabel(cont, cont.levels, inline = True, fontsize = 8,colors = 'white')\n",
    "ax2.set_xlim(-1e6,1e6)\n",
    "ax2.set_ylim(-1e6,1e6)\n",
    "ax2.set_xlabel('Easting [m]')\n",
    "ax2.set_ylabel('Northing [m]')\n",
    "ax2.set_title('Water Content at 155 km')\n",
    "\n",
    "ax3 = plt.subplot(223)\n",
    "cax3 = ax3.pcolormesh(xi,yi, res_96, cmap = 'Spectral')\n",
    "cax3.set_clim(0,4)\n",
    "cbar_ax3 = fig.colorbar(cax3, boundaries= np.linspace(0,4), orientation=\"horizontal\", pad=0.1,\n",
    "\t\t\t ticks = [0,2,4], ax = ax3, label = r'Resistivity [$\\Omega m$]')\n",
    "\n",
    "ax3.set_xlim(-1e6,1e6)\n",
    "ax3.set_ylim(-1e6,1e6)\n",
    "ax3.set_xlabel('Easting [m]')\n",
    "ax3.set_ylabel('Northing [m]')\n",
    "\n",
    "ax4 = plt.subplot(224)\n",
    "cax4 = ax4.pcolormesh(xi,yi, res_155, cmap = 'Spectral')\n",
    "cax4.set_clim(0,4)\n",
    "cbar_ax4 = fig.colorbar(cax4, boundaries= np.linspace(0,4), orientation=\"horizontal\", pad=0.1,\n",
    "\t\t\t ticks = [0,2,4], ax = ax4, label = r'Resistivity [$\\Omega m$]')\n",
    "\n",
    "ax4.set_xlim(-1e6,1e6)\n",
    "ax4.set_ylim(-1e6,1e6)\n",
    "ax4.set_xlabel('Easting [m]')\n",
    "ax4.set_ylabel('Northing [m]')\n",
    "\n",
    "plt.show()\n"
   ]
  },
  {
   "cell_type": "markdown",
   "id": "d4beccc5-560c-47a1-91ba-7796a3d83cee",
   "metadata": {},
   "source": [
    "Now, let's consider calculating the mantle viscosity with the water content output of this model in accordance with the temperature model we have. The effective viscosity $\\eta_{eff}$ can be first calculate by calculation of total strain caused by different olivine deformation mechanisms:\n",
    "\n",
    "$$\\gamma_{total} = \\gamma_{diff} + \\gamma_{disl} + \\gamma_{GBS} \\qquad \\text{(1)}$$\n",
    "\n",
    "where $\\gamma_{diff}$ is the diffusion creep, $\\gamma_{disl}$ is the dislocation creep and $\\gamma_{GBS}$ is strain related to grain boundary sliding. Knowing the total strain, now we can calculate the effective viscosity:\n",
    "\n",
    "$$\\eta_{eff} = {\\sigma \\over {2\\gamma_{total}}} \\qquad \\text{(2)}$$\n",
    "\n",
    "where $\\sigma$ is stress in Pa. Stress here can be calculated via a grain-size ($d$ in m) dependent stress relationship taken from vanderWal et al. (1993, [Paper Link](https://doi.org/10.1029/93GL01382)):\n",
    "\n",
    "$$\\sigma = (0.015 / d)^{1/1.33} \\qquad \\text{(2)}$$\n",
    "\n",
    "To follow these actions one has to first calculate the olivine water content from the inversion results:\n"
   ]
  },
  {
   "cell_type": "code",
   "execution_count": null,
   "id": "64fe499c-cc9c-4864-9f6e-cc382f33c1ee",
   "metadata": {},
   "outputs": [],
   "source": [
    "p_obj.set_bulk_water(water_155)\n",
    "p_obj.mantle_water_distribute()\n",
    "\n",
    "#Olivine water content then can be taken from the object\n",
    "ol_water = p_obj.ol_water"
   ]
  },
  {
   "cell_type": "markdown",
   "id": "b1c45c39-0dcf-4153-a246-54b9219a35c6",
   "metadata": {},
   "source": [
    "Now we can set up the rheology object. First, we have to import"
   ]
  },
  {
   "cell_type": "code",
   "execution_count": null,
   "id": "b274d761-d25b-4533-a888-4a540a66c1c1",
   "metadata": {},
   "outputs": [],
   "source": [
    "from pide.rheology.olivine_rheology import olivine_rheology\n",
    "\n",
    "#creating rheology object\n",
    "rheol_obj = olivine_rheology(T = p_obj.T,P = p_obj.p,water = p_obj.ol_water, xFe = 0.1)\n",
    "#calculating stress from grain size for ambient mantle with equation 3 with 1 mm grain size\n",
    "stress_input = rheol_obj.Stress_from_grainSize_vanderWAL1993(grain_size = 1)\n",
    "\n",
    "#calculating strains from Hirth and Kohlstedt (2003)\n",
    "diff_strain = rheol_obj.Hirth_Kohlstedt_2003_diff_fugacity(gr_sz = 1,stress = stress_input, melt = 0.0, fugacity_model= 'Zhao2004', calibration_model=\"Withers2012\")\n",
    "disl_strain = rheol_obj.Hirth_Kohlstedt_2003_dislocation_fugacity(stress = stress_input, melt = 0.0, fugacity_model= 'Zhao2004', calibration_model=\"Withers2012\")\n",
    "gbs_strain = rheol_obj.Ohuchi_et_al_2014_GBS(gr_sz=1, stress = stress_input, fugacity_model= 'Zhao2004', calibration_model=\"Withers2012\")\n",
    "\n",
    "#calculating effective viscosity\n",
    "eff_visc_155 = rheol_obj.calculate_effective_viscosity(stress = stress_input, strain_diff=diff_strain,strain_disl=disl_strain,strain_GBS=gbs_strain)\n",
    "\n",
    "visc_155 = griddata(points_interp, eff_visc_155, (x_i, y_i), method = 'cubic')"
   ]
  },
  {
   "cell_type": "markdown",
   "id": "5737b12b-3f00-4ae7-a85a-73eec81b66ba",
   "metadata": {},
   "source": [
    "Now let's plot the results for the mantle viscosity calculations:"
   ]
  },
  {
   "cell_type": "code",
   "execution_count": null,
   "id": "75d5a941-29ff-4e13-b51f-e3a8d3615690",
   "metadata": {},
   "outputs": [],
   "source": [
    "fig = plt.figure(figsize = (13,10))\n",
    "ax1 = plt.subplot(111)\n",
    "cax1 = ax1.pcolormesh(xi,yi, np.log10(visc_155), cmap = 'magma_r')\n",
    "cax1.set_clim(14,23)\n",
    "cbar_ax = fig.colorbar(cax1, boundaries= np.linspace(14,23), orientation=\"vertical\", pad=0.1,\n",
    "\t\t\t ticks = [14,16,18,20,22], ax = ax1, label = r'Log-Effective Viscosity [Pa.s]')\n",
    "\n",
    "ax1.clabel(cont, cont.levels, inline = True, fontsize = 8, colors = 'white')\n",
    "ax1.set_xlim(-1e6,1e6)\n",
    "ax1.set_ylim(-1e6,1e6)\n",
    "ax1.set_xlabel('Easting [m]')\n",
    "ax1.set_ylabel('Northing [m]')\n",
    "ax1.set_title('Effective Viscosity at 155 km')"
   ]
  },
  {
   "cell_type": "code",
   "execution_count": null,
   "id": "668e1bd4-30d3-40e0-872c-592ff73cfeaf",
   "metadata": {},
   "outputs": [],
   "source": []
  }
 ],
 "metadata": {
  "kernelspec": {
   "display_name": "Python 3 (ipykernel)",
   "language": "python",
   "name": "python3"
  },
  "language_info": {
   "codemirror_mode": {
    "name": "ipython",
    "version": 3
   },
   "file_extension": ".py",
   "mimetype": "text/x-python",
   "name": "python",
   "nbconvert_exporter": "python",
   "pygments_lexer": "ipython3",
   "version": "3.10.12"
  }
 },
 "nbformat": 4,
 "nbformat_minor": 5
}
